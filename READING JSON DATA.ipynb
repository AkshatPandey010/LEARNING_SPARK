{
 "cells": [
  {
   "cell_type": "code",
   "execution_count": 0,
   "metadata": {
    "application/vnd.databricks.v1+cell": {
     "cellMetadata": {
      "byteLimit": 2048000,
      "rowLimit": 10000
     },
     "inputWidgets": {},
     "nuid": "0e8e622a-8a6e-4f80-9a60-618876858e9e",
     "showTitle": false,
     "tableResultSettingsMap": {},
     "title": ""
    }
   },
   "outputs": [
    {
     "output_type": "display_data",
     "data": {
      "text/html": [
       "<style scoped>\n",
       "  .table-result-container {\n",
       "    max-height: 300px;\n",
       "    overflow: auto;\n",
       "  }\n",
       "  table, th, td {\n",
       "    border: 1px solid black;\n",
       "    border-collapse: collapse;\n",
       "  }\n",
       "  th, td {\n",
       "    padding: 5px;\n",
       "  }\n",
       "  th {\n",
       "    text-align: left;\n",
       "  }\n",
       "</style><div class='table-result-container'><table class='table-result'><thead style='background-color: white'><tr><th>age</th><th>name</th><th>salary</th></tr></thead><tbody><tr><td>20</td><td>Manish</td><td>20000</td></tr><tr><td>25</td><td>Nikita</td><td>21000</td></tr><tr><td>16</td><td>Pritam</td><td>22000</td></tr><tr><td>35</td><td>Prantosh</td><td>25000</td></tr><tr><td>67</td><td>Vikash</td><td>40000</td></tr></tbody></table></div>"
      ]
     },
     "metadata": {
      "application/vnd.databricks.v1+output": {
       "addedWidgets": {},
       "aggData": [],
       "aggError": "",
       "aggOverflow": false,
       "aggSchema": [],
       "aggSeriesLimitReached": false,
       "aggType": "",
       "arguments": {},
       "columnCustomDisplayInfos": {},
       "data": [
        [
         20,
         "Manish",
         20000
        ],
        [
         25,
         "Nikita",
         21000
        ],
        [
         16,
         "Pritam",
         22000
        ],
        [
         35,
         "Prantosh",
         25000
        ],
        [
         67,
         "Vikash",
         40000
        ]
       ],
       "datasetInfos": [],
       "dbfsResultPath": null,
       "isJsonSchema": true,
       "metadata": {},
       "overflow": false,
       "plotOptions": {
        "customPlotOptions": {},
        "displayType": "table",
        "pivotAggregation": null,
        "pivotColumns": null,
        "xColumns": null,
        "yColumns": null
       },
       "removedWidgets": [],
       "schema": [
        {
         "metadata": "{}",
         "name": "age",
         "type": "\"long\""
        },
        {
         "metadata": "{}",
         "name": "name",
         "type": "\"string\""
        },
        {
         "metadata": "{}",
         "name": "salary",
         "type": "\"long\""
        }
       ],
       "type": "table"
      }
     },
     "output_type": "display_data"
    }
   ],
   "source": [
    "display(spark.read.format(\"json\").option(\"inferSchema\", \"true\").option(\"mode\",\"PERMISSIVE\").load(\"/FileStore/tables/line_delimited_json.json\"))"
   ]
  },
  {
   "cell_type": "code",
   "execution_count": 0,
   "metadata": {
    "application/vnd.databricks.v1+cell": {
     "cellMetadata": {
      "byteLimit": 2048000,
      "rowLimit": 10000
     },
     "inputWidgets": {},
     "nuid": "213cf9b5-a270-4bfb-9458-7a3c3809e217",
     "showTitle": false,
     "tableResultSettingsMap": {},
     "title": ""
    }
   },
   "outputs": [
    {
     "output_type": "display_data",
     "data": {
      "text/html": [
       "<style scoped>\n",
       "  .table-result-container {\n",
       "    max-height: 300px;\n",
       "    overflow: auto;\n",
       "  }\n",
       "  table, th, td {\n",
       "    border: 1px solid black;\n",
       "    border-collapse: collapse;\n",
       "  }\n",
       "  th, td {\n",
       "    padding: 5px;\n",
       "  }\n",
       "  th {\n",
       "    text-align: left;\n",
       "  }\n",
       "</style><div class='table-result-container'><table class='table-result'><thead style='background-color: white'><tr><th>age</th><th>gender</th><th>name</th><th>salary</th></tr></thead><tbody><tr><td>20</td><td>null</td><td>Manish</td><td>20000</td></tr><tr><td>25</td><td>null</td><td>Nikita</td><td>21000</td></tr><tr><td>16</td><td>null</td><td>Pritam</td><td>22000</td></tr><tr><td>35</td><td>null</td><td>Prantosh</td><td>25000</td></tr><tr><td>67</td><td>M</td><td>Vikash</td><td>40000</td></tr></tbody></table></div>"
      ]
     },
     "metadata": {
      "application/vnd.databricks.v1+output": {
       "addedWidgets": {},
       "aggData": [],
       "aggError": "",
       "aggOverflow": false,
       "aggSchema": [],
       "aggSeriesLimitReached": false,
       "aggType": "",
       "arguments": {},
       "columnCustomDisplayInfos": {},
       "data": [
        [
         20,
         null,
         "Manish",
         20000
        ],
        [
         25,
         null,
         "Nikita",
         21000
        ],
        [
         16,
         null,
         "Pritam",
         22000
        ],
        [
         35,
         null,
         "Prantosh",
         25000
        ],
        [
         67,
         "M",
         "Vikash",
         40000
        ]
       ],
       "datasetInfos": [],
       "dbfsResultPath": null,
       "isJsonSchema": true,
       "metadata": {},
       "overflow": false,
       "plotOptions": {
        "customPlotOptions": {},
        "displayType": "table",
        "pivotAggregation": null,
        "pivotColumns": null,
        "xColumns": null,
        "yColumns": null
       },
       "removedWidgets": [],
       "schema": [
        {
         "metadata": "{}",
         "name": "age",
         "type": "\"long\""
        },
        {
         "metadata": "{}",
         "name": "gender",
         "type": "\"string\""
        },
        {
         "metadata": "{}",
         "name": "name",
         "type": "\"string\""
        },
        {
         "metadata": "{}",
         "name": "salary",
         "type": "\"long\""
        }
       ],
       "type": "table"
      }
     },
     "output_type": "display_data"
    }
   ],
   "source": [
    "display(spark.read.format(\"json\").option(\"inferSchema\", \"true\").option(\"mode\",\"PERMISSIVE\").load(\"/FileStore/tables/single_file_json_with_extra_fields.json\"))"
   ]
  },
  {
   "cell_type": "markdown",
   "metadata": {
    "application/vnd.databricks.v1+cell": {
     "cellMetadata": {},
     "inputWidgets": {},
     "nuid": "9b7df031-af09-41df-9f1e-18ab89d4e37d",
     "showTitle": false,
     "tableResultSettingsMap": {},
     "title": ""
    }
   },
   "source": [
    "Multiline json should be passsed as list of multiple dicts(key value pairs)"
   ]
  },
  {
   "cell_type": "code",
   "execution_count": 0,
   "metadata": {
    "application/vnd.databricks.v1+cell": {
     "cellMetadata": {
      "byteLimit": 2048000,
      "rowLimit": 10000
     },
     "inputWidgets": {},
     "nuid": "074998d8-e45f-4246-a9df-8f75bffe43a1",
     "showTitle": false,
     "tableResultSettingsMap": {},
     "title": ""
    }
   },
   "outputs": [
    {
     "output_type": "display_data",
     "data": {
      "text/html": [
       "<style scoped>\n",
       "  .table-result-container {\n",
       "    max-height: 300px;\n",
       "    overflow: auto;\n",
       "  }\n",
       "  table, th, td {\n",
       "    border: 1px solid black;\n",
       "    border-collapse: collapse;\n",
       "  }\n",
       "  th, td {\n",
       "    padding: 5px;\n",
       "  }\n",
       "  th {\n",
       "    text-align: left;\n",
       "  }\n",
       "</style><div class='table-result-container'><table class='table-result'><thead style='background-color: white'><tr><th>age</th><th>name</th><th>salary</th></tr></thead><tbody><tr><td>20</td><td>Manish</td><td>20000</td></tr><tr><td>25</td><td>Nikita</td><td>21000</td></tr><tr><td>16</td><td>Pritam</td><td>22000</td></tr><tr><td>35</td><td>Prantosh</td><td>25000</td></tr><tr><td>67</td><td>Vikash</td><td>40000</td></tr></tbody></table></div>"
      ]
     },
     "metadata": {
      "application/vnd.databricks.v1+output": {
       "addedWidgets": {},
       "aggData": [],
       "aggError": "",
       "aggOverflow": false,
       "aggSchema": [],
       "aggSeriesLimitReached": false,
       "aggType": "",
       "arguments": {},
       "columnCustomDisplayInfos": {},
       "data": [
        [
         20,
         "Manish",
         20000
        ],
        [
         25,
         "Nikita",
         21000
        ],
        [
         16,
         "Pritam",
         22000
        ],
        [
         35,
         "Prantosh",
         25000
        ],
        [
         67,
         "Vikash",
         40000
        ]
       ],
       "datasetInfos": [],
       "dbfsResultPath": null,
       "isJsonSchema": true,
       "metadata": {},
       "overflow": false,
       "plotOptions": {
        "customPlotOptions": {},
        "displayType": "table",
        "pivotAggregation": null,
        "pivotColumns": null,
        "xColumns": null,
        "yColumns": null
       },
       "removedWidgets": [],
       "schema": [
        {
         "metadata": "{}",
         "name": "age",
         "type": "\"long\""
        },
        {
         "metadata": "{}",
         "name": "name",
         "type": "\"string\""
        },
        {
         "metadata": "{}",
         "name": "salary",
         "type": "\"long\""
        }
       ],
       "type": "table"
      }
     },
     "output_type": "display_data"
    }
   ],
   "source": [
    "display(spark.read.format(\"json\").option(\"inferSchema\", \"true\").option(\"mode\",\"PERMISSIVE\").option(\"multiline\", \"true\").load(\"/FileStore/tables/Multi_line_correct.json\"))"
   ]
  },
  {
   "cell_type": "code",
   "execution_count": 0,
   "metadata": {
    "application/vnd.databricks.v1+cell": {
     "cellMetadata": {
      "byteLimit": 2048000,
      "rowLimit": 10000
     },
     "inputWidgets": {},
     "nuid": "273287d3-e893-4d35-982d-e956184ce0ae",
     "showTitle": false,
     "tableResultSettingsMap": {},
     "title": ""
    }
   },
   "outputs": [
    {
     "output_type": "display_data",
     "data": {
      "text/html": [
       "<style scoped>\n",
       "  .table-result-container {\n",
       "    max-height: 300px;\n",
       "    overflow: auto;\n",
       "  }\n",
       "  table, th, td {\n",
       "    border: 1px solid black;\n",
       "    border-collapse: collapse;\n",
       "  }\n",
       "  th, td {\n",
       "    padding: 5px;\n",
       "  }\n",
       "  th {\n",
       "    text-align: left;\n",
       "  }\n",
       "</style><div class='table-result-container'><table class='table-result'><thead style='background-color: white'><tr><th>path</th><th>name</th><th>size</th><th>modificationTime</th></tr></thead><tbody><tr><td>dbfs:/FileStore/tables/Multi_line_correct.json</td><td>Multi_line_correct.json</td><td>312</td><td>1749405342000</td></tr><tr><td>dbfs:/FileStore/tables/bad_record/</td><td>bad_record/</td><td>0</td><td>0</td></tr><tr><td>dbfs:/FileStore/tables/corrupted_json.json</td><td>corrupted_json.json</td><td>220</td><td>1749405800000</td></tr><tr><td>dbfs:/FileStore/tables/employee.csv</td><td>employee.csv</td><td>230</td><td>1749319617000</td></tr><tr><td>dbfs:/FileStore/tables/flights_data.csv</td><td>flights_data.csv</td><td>7121</td><td>1749144702000</td></tr><tr><td>dbfs:/FileStore/tables/line_delimited_json.json</td><td>line_delimited_json.json</td><td>219</td><td>1749404597000</td></tr><tr><td>dbfs:/FileStore/tables/single_file_json_with_extra_fields.json</td><td>single_file_json_with_extra_fields.json</td><td>232</td><td>1749404852000</td></tr></tbody></table></div>"
      ]
     },
     "metadata": {
      "application/vnd.databricks.v1+output": {
       "addedWidgets": {},
       "aggData": [],
       "aggError": "",
       "aggOverflow": false,
       "aggSchema": [],
       "aggSeriesLimitReached": false,
       "aggType": "",
       "arguments": {},
       "columnCustomDisplayInfos": {},
       "data": [
        [
         "dbfs:/FileStore/tables/Multi_line_correct.json",
         "Multi_line_correct.json",
         312,
         1749405342000
        ],
        [
         "dbfs:/FileStore/tables/bad_record/",
         "bad_record/",
         0,
         0
        ],
        [
         "dbfs:/FileStore/tables/corrupted_json.json",
         "corrupted_json.json",
         220,
         1749405800000
        ],
        [
         "dbfs:/FileStore/tables/employee.csv",
         "employee.csv",
         230,
         1749319617000
        ],
        [
         "dbfs:/FileStore/tables/flights_data.csv",
         "flights_data.csv",
         7121,
         1749144702000
        ],
        [
         "dbfs:/FileStore/tables/line_delimited_json.json",
         "line_delimited_json.json",
         219,
         1749404597000
        ],
        [
         "dbfs:/FileStore/tables/single_file_json_with_extra_fields.json",
         "single_file_json_with_extra_fields.json",
         232,
         1749404852000
        ]
       ],
       "datasetInfos": [],
       "dbfsResultPath": null,
       "isJsonSchema": true,
       "metadata": {
        "isDbfsCommandResult": false
       },
       "overflow": false,
       "plotOptions": {
        "customPlotOptions": {},
        "displayType": "table",
        "pivotAggregation": null,
        "pivotColumns": null,
        "xColumns": null,
        "yColumns": null
       },
       "removedWidgets": [],
       "schema": [
        {
         "metadata": "{}",
         "name": "path",
         "type": "\"string\""
        },
        {
         "metadata": "{}",
         "name": "name",
         "type": "\"string\""
        },
        {
         "metadata": "{}",
         "name": "size",
         "type": "\"long\""
        },
        {
         "metadata": "{}",
         "name": "modificationTime",
         "type": "\"long\""
        }
       ],
       "type": "table"
      }
     },
     "output_type": "display_data"
    }
   ],
   "source": [
    "%fs ls dbfs:/FileStore/tables"
   ]
  },
  {
   "cell_type": "markdown",
   "metadata": {
    "application/vnd.databricks.v1+cell": {
     "cellMetadata": {},
     "inputWidgets": {},
     "nuid": "2bd53dc6-cdf7-4d67-9285-7ea9e544d682",
     "showTitle": false,
     "tableResultSettingsMap": {},
     "title": ""
    }
   },
   "source": [
    "##Reading corrupted json data"
   ]
  },
  {
   "cell_type": "code",
   "execution_count": 0,
   "metadata": {
    "application/vnd.databricks.v1+cell": {
     "cellMetadata": {
      "byteLimit": 2048000,
      "rowLimit": 10000
     },
     "inputWidgets": {},
     "nuid": "2959dd88-3701-4bc9-982b-77963635cf75",
     "showTitle": false,
     "tableResultSettingsMap": {},
     "title": ""
    }
   },
   "outputs": [
    {
     "output_type": "display_data",
     "data": {
      "text/html": [
       "<style scoped>\n",
       "  .table-result-container {\n",
       "    max-height: 300px;\n",
       "    overflow: auto;\n",
       "  }\n",
       "  table, th, td {\n",
       "    border: 1px solid black;\n",
       "    border-collapse: collapse;\n",
       "  }\n",
       "  th, td {\n",
       "    padding: 5px;\n",
       "  }\n",
       "  th {\n",
       "    text-align: left;\n",
       "  }\n",
       "</style><div class='table-result-container'><table class='table-result'><thead style='background-color: white'><tr><th>_corrupt_record</th><th>age</th><th>name</th><th>salary</th></tr></thead><tbody><tr><td>null</td><td>20</td><td>Manish</td><td>20000</td></tr><tr><td>null</td><td>25</td><td>Nikita</td><td>21000</td></tr><tr><td>null</td><td>16</td><td>Pritam</td><td>22000</td></tr><tr><td>null</td><td>35</td><td>Prantosh</td><td>25000</td></tr><tr><td>{\"name\":\"Vikash\",\"age\":67,\"salary\":40000</td><td>null</td><td>null</td><td>null</td></tr></tbody></table></div>"
      ]
     },
     "metadata": {
      "application/vnd.databricks.v1+output": {
       "addedWidgets": {},
       "aggData": [],
       "aggError": "",
       "aggOverflow": false,
       "aggSchema": [],
       "aggSeriesLimitReached": false,
       "aggType": "",
       "arguments": {},
       "columnCustomDisplayInfos": {},
       "data": [
        [
         null,
         20,
         "Manish",
         20000
        ],
        [
         null,
         25,
         "Nikita",
         21000
        ],
        [
         null,
         16,
         "Pritam",
         22000
        ],
        [
         null,
         35,
         "Prantosh",
         25000
        ],
        [
         "{\"name\":\"Vikash\",\"age\":67,\"salary\":40000",
         null,
         null,
         null
        ]
       ],
       "datasetInfos": [],
       "dbfsResultPath": null,
       "isJsonSchema": true,
       "metadata": {},
       "overflow": false,
       "plotOptions": {
        "customPlotOptions": {},
        "displayType": "table",
        "pivotAggregation": null,
        "pivotColumns": null,
        "xColumns": null,
        "yColumns": null
       },
       "removedWidgets": [],
       "schema": [
        {
         "metadata": "{}",
         "name": "_corrupt_record",
         "type": "\"string\""
        },
        {
         "metadata": "{}",
         "name": "age",
         "type": "\"long\""
        },
        {
         "metadata": "{}",
         "name": "name",
         "type": "\"string\""
        },
        {
         "metadata": "{}",
         "name": "salary",
         "type": "\"long\""
        }
       ],
       "type": "table"
      }
     },
     "output_type": "display_data"
    }
   ],
   "source": [
    "display(spark.read.format(\"json\").option(\"inferSchema\", \"true\").option(\"mode\",\"PERMISSIVE\").load(\"/FileStore/tables/corrupted_json.json\"))"
   ]
  }
 ],
 "metadata": {
  "application/vnd.databricks.v1+notebook": {
   "computePreferences": null,
   "dashboards": [],
   "environmentMetadata": {
    "base_environment": "",
    "environment_version": "1"
   },
   "inputWidgetPreferences": null,
   "language": "python",
   "notebookMetadata": {
    "mostRecentlyExecutedCommandWithImplicitDF": {
     "commandId": 4433418560205831,
     "dataframes": [
      "_sqldf"
     ]
    },
    "pythonIndentUnit": 4
   },
   "notebookName": "READING JSON DATA",
   "widgets": {}
  }
 },
 "nbformat": 4,
 "nbformat_minor": 0
}