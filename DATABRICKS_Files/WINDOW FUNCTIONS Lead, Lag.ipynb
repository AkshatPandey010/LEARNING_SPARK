{
 "cells": [
  {
   "cell_type": "code",
   "execution_count": 0,
   "metadata": {
    "application/vnd.databricks.v1+cell": {
     "cellMetadata": {
      "byteLimit": 2048000,
      "rowLimit": 10000
     },
     "inputWidgets": {},
     "nuid": "e28d28f0-6087-43f6-a820-b24cf47671c5",
     "showTitle": false,
     "tableResultSettingsMap": {},
     "title": ""
    }
   },
   "outputs": [],
   "source": [
    "from pyspark.sql.functions import *\n",
    "from pyspark.sql.types import *\n",
    "from pyspark.sql.window import Window"
   ]
  },
  {
   "cell_type": "code",
   "execution_count": 0,
   "metadata": {
    "application/vnd.databricks.v1+cell": {
     "cellMetadata": {
      "byteLimit": 2048000,
      "rowLimit": 10000
     },
     "inputWidgets": {},
     "nuid": "b047a9b7-7665-406d-b59a-50b0b5b579e3",
     "showTitle": false,
     "tableResultSettingsMap": {},
     "title": ""
    }
   },
   "outputs": [
    {
     "output_type": "display_data",
     "data": {
      "text/html": [
       "<style scoped>\n",
       "  .table-result-container {\n",
       "    max-height: 300px;\n",
       "    overflow: auto;\n",
       "  }\n",
       "  table, th, td {\n",
       "    border: 1px solid black;\n",
       "    border-collapse: collapse;\n",
       "  }\n",
       "  th, td {\n",
       "    padding: 5px;\n",
       "  }\n",
       "  th {\n",
       "    text-align: left;\n",
       "  }\n",
       "</style><div class='table-result-container'><table class='table-result'><thead style='background-color: white'><tr><th>cmp_id</th><th>name</th><th>date</th><th>sales</th></tr></thead><tbody><tr><td>1</td><td>iphone</td><td>01-01-2023</td><td>1500000</td></tr><tr><td>2</td><td>samsung</td><td>01-01-2023</td><td>1100000</td></tr><tr><td>3</td><td>oneplus</td><td>01-01-2023</td><td>1100000</td></tr><tr><td>1</td><td>iphone</td><td>01-02-2023</td><td>1300000</td></tr><tr><td>2</td><td>samsung</td><td>01-02-2023</td><td>1120000</td></tr><tr><td>3</td><td>oneplus</td><td>01-02-2023</td><td>1120000</td></tr><tr><td>1</td><td>iphone</td><td>01-03-2023</td><td>1600000</td></tr><tr><td>2</td><td>samsung</td><td>01-03-2023</td><td>1080000</td></tr><tr><td>3</td><td>oneplus</td><td>01-03-2023</td><td>1160000</td></tr><tr><td>1</td><td>iphone</td><td>01-04-2023</td><td>1700000</td></tr><tr><td>2</td><td>samsung</td><td>01-04-2023</td><td>1800000</td></tr><tr><td>3</td><td>oneplus</td><td>01-04-2023</td><td>1170000</td></tr><tr><td>1</td><td>iphone</td><td>01-05-2023</td><td>1200000</td></tr><tr><td>2</td><td>samsung</td><td>01-05-2023</td><td>980000</td></tr><tr><td>3</td><td>oneplus</td><td>01-05-2023</td><td>1175000</td></tr><tr><td>1</td><td>iphone</td><td>01-06-2023</td><td>1100000</td></tr><tr><td>2</td><td>samsung</td><td>01-06-2023</td><td>1100000</td></tr><tr><td>3</td><td>oneplus</td><td>01-06-2023</td><td>1200000</td></tr></tbody></table></div>"
      ]
     },
     "metadata": {
      "application/vnd.databricks.v1+output": {
       "addedWidgets": {},
       "aggData": [],
       "aggError": "",
       "aggOverflow": false,
       "aggSchema": [],
       "aggSeriesLimitReached": false,
       "aggType": "",
       "arguments": {},
       "columnCustomDisplayInfos": {},
       "data": [
        [
         1,
         "iphone",
         "01-01-2023",
         1500000
        ],
        [
         2,
         "samsung",
         "01-01-2023",
         1100000
        ],
        [
         3,
         "oneplus",
         "01-01-2023",
         1100000
        ],
        [
         1,
         "iphone",
         "01-02-2023",
         1300000
        ],
        [
         2,
         "samsung",
         "01-02-2023",
         1120000
        ],
        [
         3,
         "oneplus",
         "01-02-2023",
         1120000
        ],
        [
         1,
         "iphone",
         "01-03-2023",
         1600000
        ],
        [
         2,
         "samsung",
         "01-03-2023",
         1080000
        ],
        [
         3,
         "oneplus",
         "01-03-2023",
         1160000
        ],
        [
         1,
         "iphone",
         "01-04-2023",
         1700000
        ],
        [
         2,
         "samsung",
         "01-04-2023",
         1800000
        ],
        [
         3,
         "oneplus",
         "01-04-2023",
         1170000
        ],
        [
         1,
         "iphone",
         "01-05-2023",
         1200000
        ],
        [
         2,
         "samsung",
         "01-05-2023",
         980000
        ],
        [
         3,
         "oneplus",
         "01-05-2023",
         1175000
        ],
        [
         1,
         "iphone",
         "01-06-2023",
         1100000
        ],
        [
         2,
         "samsung",
         "01-06-2023",
         1100000
        ],
        [
         3,
         "oneplus",
         "01-06-2023",
         1200000
        ]
       ],
       "datasetInfos": [],
       "dbfsResultPath": null,
       "isJsonSchema": true,
       "metadata": {},
       "overflow": false,
       "plotOptions": {
        "customPlotOptions": {},
        "displayType": "table",
        "pivotAggregation": null,
        "pivotColumns": null,
        "xColumns": null,
        "yColumns": null
       },
       "removedWidgets": [],
       "schema": [
        {
         "metadata": "{}",
         "name": "cmp_id",
         "type": "\"long\""
        },
        {
         "metadata": "{}",
         "name": "name",
         "type": "\"string\""
        },
        {
         "metadata": "{}",
         "name": "date",
         "type": "\"string\""
        },
        {
         "metadata": "{}",
         "name": "sales",
         "type": "\"long\""
        }
       ],
       "type": "table"
      }
     },
     "output_type": "display_data"
    }
   ],
   "source": [
    "product_data = [\n",
    "(1,\"iphone\",\"01-01-2023\",1500000),\n",
    "(2,\"samsung\",\"01-01-2023\",1100000),\n",
    "(3,\"oneplus\",\"01-01-2023\",1100000),\n",
    "(1,\"iphone\",\"01-02-2023\",1300000),\n",
    "(2,\"samsung\",\"01-02-2023\",1120000),\n",
    "(3,\"oneplus\",\"01-02-2023\",1120000),\n",
    "(1,\"iphone\",\"01-03-2023\",1600000),\n",
    "(2,\"samsung\",\"01-03-2023\",1080000),\n",
    "(3,\"oneplus\",\"01-03-2023\",1160000),\n",
    "(1,\"iphone\",\"01-04-2023\",1700000),\n",
    "(2,\"samsung\",\"01-04-2023\",1800000),\n",
    "(3,\"oneplus\",\"01-04-2023\",1170000),\n",
    "(1,\"iphone\",\"01-05-2023\",1200000),\n",
    "(2,\"samsung\",\"01-05-2023\",980000),\n",
    "(3,\"oneplus\",\"01-05-2023\",1175000),\n",
    "(1,\"iphone\",\"01-06-2023\",1100000),\n",
    "(2,\"samsung\",\"01-06-2023\",1100000),\n",
    "(3,\"oneplus\",\"01-06-2023\",1200000)\n",
    "]\n",
    "prod_df = spark.createDataFrame(data = product_data , schema = ['cmp_id', 'name', 'date', 'sales'])\n",
    "display(prod_df)"
   ]
  },
  {
   "cell_type": "code",
   "execution_count": 0,
   "metadata": {
    "application/vnd.databricks.v1+cell": {
     "cellMetadata": {
      "byteLimit": 2048000,
      "rowLimit": 10000
     },
     "inputWidgets": {},
     "nuid": "a9247cee-a319-4318-a004-047b26d9d542",
     "showTitle": false,
     "tableResultSettingsMap": {},
     "title": ""
    }
   },
   "outputs": [
    {
     "output_type": "display_data",
     "data": {
      "text/html": [
       "<style scoped>\n",
       "  .table-result-container {\n",
       "    max-height: 300px;\n",
       "    overflow: auto;\n",
       "  }\n",
       "  table, th, td {\n",
       "    border: 1px solid black;\n",
       "    border-collapse: collapse;\n",
       "  }\n",
       "  th, td {\n",
       "    padding: 5px;\n",
       "  }\n",
       "  th {\n",
       "    text-align: left;\n",
       "  }\n",
       "</style><div class='table-result-container'><table class='table-result'><thead style='background-color: white'><tr><th>cmp_id</th><th>name</th><th>date</th><th>sales</th><th>last_mon_sale</th></tr></thead><tbody><tr><td>1</td><td>iphone</td><td>01-01-2023</td><td>1500000</td><td>null</td></tr><tr><td>1</td><td>iphone</td><td>01-02-2023</td><td>1300000</td><td>1500000</td></tr><tr><td>1</td><td>iphone</td><td>01-03-2023</td><td>1600000</td><td>1300000</td></tr><tr><td>1</td><td>iphone</td><td>01-04-2023</td><td>1700000</td><td>1600000</td></tr><tr><td>1</td><td>iphone</td><td>01-05-2023</td><td>1200000</td><td>1700000</td></tr><tr><td>1</td><td>iphone</td><td>01-06-2023</td><td>1100000</td><td>1200000</td></tr><tr><td>2</td><td>samsung</td><td>01-01-2023</td><td>1100000</td><td>null</td></tr><tr><td>2</td><td>samsung</td><td>01-02-2023</td><td>1120000</td><td>1100000</td></tr><tr><td>2</td><td>samsung</td><td>01-03-2023</td><td>1080000</td><td>1120000</td></tr><tr><td>2</td><td>samsung</td><td>01-04-2023</td><td>1800000</td><td>1080000</td></tr><tr><td>2</td><td>samsung</td><td>01-05-2023</td><td>980000</td><td>1800000</td></tr><tr><td>2</td><td>samsung</td><td>01-06-2023</td><td>1100000</td><td>980000</td></tr><tr><td>3</td><td>oneplus</td><td>01-01-2023</td><td>1100000</td><td>null</td></tr><tr><td>3</td><td>oneplus</td><td>01-02-2023</td><td>1120000</td><td>1100000</td></tr><tr><td>3</td><td>oneplus</td><td>01-03-2023</td><td>1160000</td><td>1120000</td></tr><tr><td>3</td><td>oneplus</td><td>01-04-2023</td><td>1170000</td><td>1160000</td></tr><tr><td>3</td><td>oneplus</td><td>01-05-2023</td><td>1175000</td><td>1170000</td></tr><tr><td>3</td><td>oneplus</td><td>01-06-2023</td><td>1200000</td><td>1175000</td></tr></tbody></table></div>"
      ]
     },
     "metadata": {
      "application/vnd.databricks.v1+output": {
       "addedWidgets": {},
       "aggData": [],
       "aggError": "",
       "aggOverflow": false,
       "aggSchema": [],
       "aggSeriesLimitReached": false,
       "aggType": "",
       "arguments": {},
       "columnCustomDisplayInfos": {},
       "data": [
        [
         1,
         "iphone",
         "01-01-2023",
         1500000,
         null
        ],
        [
         1,
         "iphone",
         "01-02-2023",
         1300000,
         1500000
        ],
        [
         1,
         "iphone",
         "01-03-2023",
         1600000,
         1300000
        ],
        [
         1,
         "iphone",
         "01-04-2023",
         1700000,
         1600000
        ],
        [
         1,
         "iphone",
         "01-05-2023",
         1200000,
         1700000
        ],
        [
         1,
         "iphone",
         "01-06-2023",
         1100000,
         1200000
        ],
        [
         2,
         "samsung",
         "01-01-2023",
         1100000,
         null
        ],
        [
         2,
         "samsung",
         "01-02-2023",
         1120000,
         1100000
        ],
        [
         2,
         "samsung",
         "01-03-2023",
         1080000,
         1120000
        ],
        [
         2,
         "samsung",
         "01-04-2023",
         1800000,
         1080000
        ],
        [
         2,
         "samsung",
         "01-05-2023",
         980000,
         1800000
        ],
        [
         2,
         "samsung",
         "01-06-2023",
         1100000,
         980000
        ],
        [
         3,
         "oneplus",
         "01-01-2023",
         1100000,
         null
        ],
        [
         3,
         "oneplus",
         "01-02-2023",
         1120000,
         1100000
        ],
        [
         3,
         "oneplus",
         "01-03-2023",
         1160000,
         1120000
        ],
        [
         3,
         "oneplus",
         "01-04-2023",
         1170000,
         1160000
        ],
        [
         3,
         "oneplus",
         "01-05-2023",
         1175000,
         1170000
        ],
        [
         3,
         "oneplus",
         "01-06-2023",
         1200000,
         1175000
        ]
       ],
       "datasetInfos": [],
       "dbfsResultPath": null,
       "isJsonSchema": true,
       "metadata": {},
       "overflow": false,
       "plotOptions": {
        "customPlotOptions": {},
        "displayType": "table",
        "pivotAggregation": null,
        "pivotColumns": null,
        "xColumns": null,
        "yColumns": null
       },
       "removedWidgets": [],
       "schema": [
        {
         "metadata": "{}",
         "name": "cmp_id",
         "type": "\"long\""
        },
        {
         "metadata": "{}",
         "name": "name",
         "type": "\"string\""
        },
        {
         "metadata": "{}",
         "name": "date",
         "type": "\"string\""
        },
        {
         "metadata": "{}",
         "name": "sales",
         "type": "\"long\""
        },
        {
         "metadata": "{}",
         "name": "last_mon_sale",
         "type": "\"long\""
        }
       ],
       "type": "table"
      }
     },
     "output_type": "display_data"
    }
   ],
   "source": [
    "window = Window.partitionBy('cmp_id').orderBy('date')\n",
    "#LAG FUNCTION\n",
    "last_month_df = prod_df.withColumn('last_mon_sale', lag(col('sales'),1).over(window))\n",
    "display(last_month_df)"
   ]
  },
  {
   "cell_type": "code",
   "execution_count": 0,
   "metadata": {
    "application/vnd.databricks.v1+cell": {
     "cellMetadata": {
      "byteLimit": 2048000,
      "rowLimit": 10000
     },
     "collapsed": true,
     "inputWidgets": {},
     "nuid": "a96cb106-db7e-4dc3-9196-61afb6acdaa6",
     "showTitle": false,
     "tableResultSettingsMap": {},
     "title": ""
    }
   },
   "outputs": [
    {
     "output_type": "display_data",
     "data": {
      "text/html": [
       "<style scoped>\n",
       "  .table-result-container {\n",
       "    max-height: 300px;\n",
       "    overflow: auto;\n",
       "  }\n",
       "  table, th, td {\n",
       "    border: 1px solid black;\n",
       "    border-collapse: collapse;\n",
       "  }\n",
       "  th, td {\n",
       "    padding: 5px;\n",
       "  }\n",
       "  th {\n",
       "    text-align: left;\n",
       "  }\n",
       "</style><div class='table-result-container'><table class='table-result'><thead style='background-color: white'><tr><th>cmp_id</th><th>name</th><th>date</th><th>sales</th><th>next_mon_sale</th></tr></thead><tbody><tr><td>1</td><td>iphone</td><td>01-01-2023</td><td>1500000</td><td>1300000</td></tr><tr><td>1</td><td>iphone</td><td>01-02-2023</td><td>1300000</td><td>1600000</td></tr><tr><td>1</td><td>iphone</td><td>01-03-2023</td><td>1600000</td><td>1700000</td></tr><tr><td>1</td><td>iphone</td><td>01-04-2023</td><td>1700000</td><td>1200000</td></tr><tr><td>1</td><td>iphone</td><td>01-05-2023</td><td>1200000</td><td>1100000</td></tr><tr><td>1</td><td>iphone</td><td>01-06-2023</td><td>1100000</td><td>null</td></tr><tr><td>2</td><td>samsung</td><td>01-01-2023</td><td>1100000</td><td>1120000</td></tr><tr><td>2</td><td>samsung</td><td>01-02-2023</td><td>1120000</td><td>1080000</td></tr><tr><td>2</td><td>samsung</td><td>01-03-2023</td><td>1080000</td><td>1800000</td></tr><tr><td>2</td><td>samsung</td><td>01-04-2023</td><td>1800000</td><td>980000</td></tr><tr><td>2</td><td>samsung</td><td>01-05-2023</td><td>980000</td><td>1100000</td></tr><tr><td>2</td><td>samsung</td><td>01-06-2023</td><td>1100000</td><td>null</td></tr><tr><td>3</td><td>oneplus</td><td>01-01-2023</td><td>1100000</td><td>1120000</td></tr><tr><td>3</td><td>oneplus</td><td>01-02-2023</td><td>1120000</td><td>1160000</td></tr><tr><td>3</td><td>oneplus</td><td>01-03-2023</td><td>1160000</td><td>1170000</td></tr><tr><td>3</td><td>oneplus</td><td>01-04-2023</td><td>1170000</td><td>1175000</td></tr><tr><td>3</td><td>oneplus</td><td>01-05-2023</td><td>1175000</td><td>1200000</td></tr><tr><td>3</td><td>oneplus</td><td>01-06-2023</td><td>1200000</td><td>null</td></tr></tbody></table></div>"
      ]
     },
     "metadata": {
      "application/vnd.databricks.v1+output": {
       "addedWidgets": {},
       "aggData": [],
       "aggError": "",
       "aggOverflow": false,
       "aggSchema": [],
       "aggSeriesLimitReached": false,
       "aggType": "",
       "arguments": {},
       "columnCustomDisplayInfos": {},
       "data": [
        [
         1,
         "iphone",
         "01-01-2023",
         1500000,
         1300000
        ],
        [
         1,
         "iphone",
         "01-02-2023",
         1300000,
         1600000
        ],
        [
         1,
         "iphone",
         "01-03-2023",
         1600000,
         1700000
        ],
        [
         1,
         "iphone",
         "01-04-2023",
         1700000,
         1200000
        ],
        [
         1,
         "iphone",
         "01-05-2023",
         1200000,
         1100000
        ],
        [
         1,
         "iphone",
         "01-06-2023",
         1100000,
         null
        ],
        [
         2,
         "samsung",
         "01-01-2023",
         1100000,
         1120000
        ],
        [
         2,
         "samsung",
         "01-02-2023",
         1120000,
         1080000
        ],
        [
         2,
         "samsung",
         "01-03-2023",
         1080000,
         1800000
        ],
        [
         2,
         "samsung",
         "01-04-2023",
         1800000,
         980000
        ],
        [
         2,
         "samsung",
         "01-05-2023",
         980000,
         1100000
        ],
        [
         2,
         "samsung",
         "01-06-2023",
         1100000,
         null
        ],
        [
         3,
         "oneplus",
         "01-01-2023",
         1100000,
         1120000
        ],
        [
         3,
         "oneplus",
         "01-02-2023",
         1120000,
         1160000
        ],
        [
         3,
         "oneplus",
         "01-03-2023",
         1160000,
         1170000
        ],
        [
         3,
         "oneplus",
         "01-04-2023",
         1170000,
         1175000
        ],
        [
         3,
         "oneplus",
         "01-05-2023",
         1175000,
         1200000
        ],
        [
         3,
         "oneplus",
         "01-06-2023",
         1200000,
         null
        ]
       ],
       "datasetInfos": [],
       "dbfsResultPath": null,
       "isJsonSchema": true,
       "metadata": {},
       "overflow": false,
       "plotOptions": {
        "customPlotOptions": {},
        "displayType": "table",
        "pivotAggregation": null,
        "pivotColumns": null,
        "xColumns": null,
        "yColumns": null
       },
       "removedWidgets": [],
       "schema": [
        {
         "metadata": "{}",
         "name": "cmp_id",
         "type": "\"long\""
        },
        {
         "metadata": "{}",
         "name": "name",
         "type": "\"string\""
        },
        {
         "metadata": "{}",
         "name": "date",
         "type": "\"string\""
        },
        {
         "metadata": "{}",
         "name": "sales",
         "type": "\"long\""
        },
        {
         "metadata": "{}",
         "name": "next_mon_sale",
         "type": "\"long\""
        }
       ],
       "type": "table"
      }
     },
     "output_type": "display_data"
    }
   ],
   "source": [
    "#LEAD FUNCTION\n",
    "next_month_df = prod_df.withColumn('next_mon_sale', lead(col('sales'), 1).over(window))\n",
    "display(next_month_df)"
   ]
  },
  {
   "cell_type": "code",
   "execution_count": 0,
   "metadata": {
    "application/vnd.databricks.v1+cell": {
     "cellMetadata": {
      "byteLimit": 2048000,
      "rowLimit": 10000
     },
     "inputWidgets": {},
     "nuid": "0d325795-ec57-4d10-95e3-7cd6eeef399e",
     "showTitle": false,
     "tableResultSettingsMap": {},
     "title": ""
    }
   },
   "outputs": [
    {
     "output_type": "display_data",
     "data": {
      "text/html": [
       "<style scoped>\n",
       "  .table-result-container {\n",
       "    max-height: 300px;\n",
       "    overflow: auto;\n",
       "  }\n",
       "  table, th, td {\n",
       "    border: 1px solid black;\n",
       "    border-collapse: collapse;\n",
       "  }\n",
       "  th, td {\n",
       "    padding: 5px;\n",
       "  }\n",
       "  th {\n",
       "    text-align: left;\n",
       "  }\n",
       "</style><div class='table-result-container'><table class='table-result'><thead style='background-color: white'><tr><th>cmp_id</th><th>name</th><th>date</th><th>sales</th><th>last_mon_sale</th><th>prof_or_loss</th></tr></thead><tbody><tr><td>1</td><td>iphone</td><td>01-01-2023</td><td>1500000</td><td>null</td><td>null</td></tr><tr><td>1</td><td>iphone</td><td>01-02-2023</td><td>1300000</td><td>1500000</td><td>-15.38</td></tr><tr><td>1</td><td>iphone</td><td>01-03-2023</td><td>1600000</td><td>1300000</td><td>18.75</td></tr><tr><td>1</td><td>iphone</td><td>01-04-2023</td><td>1700000</td><td>1600000</td><td>5.88</td></tr><tr><td>1</td><td>iphone</td><td>01-05-2023</td><td>1200000</td><td>1700000</td><td>-41.67</td></tr><tr><td>1</td><td>iphone</td><td>01-06-2023</td><td>1100000</td><td>1200000</td><td>-9.09</td></tr><tr><td>2</td><td>samsung</td><td>01-01-2023</td><td>1100000</td><td>null</td><td>null</td></tr><tr><td>2</td><td>samsung</td><td>01-02-2023</td><td>1120000</td><td>1100000</td><td>1.79</td></tr><tr><td>2</td><td>samsung</td><td>01-03-2023</td><td>1080000</td><td>1120000</td><td>-3.7</td></tr><tr><td>2</td><td>samsung</td><td>01-04-2023</td><td>1800000</td><td>1080000</td><td>40.0</td></tr><tr><td>2</td><td>samsung</td><td>01-05-2023</td><td>980000</td><td>1800000</td><td>-83.67</td></tr><tr><td>2</td><td>samsung</td><td>01-06-2023</td><td>1100000</td><td>980000</td><td>10.91</td></tr><tr><td>3</td><td>oneplus</td><td>01-01-2023</td><td>1100000</td><td>null</td><td>null</td></tr><tr><td>3</td><td>oneplus</td><td>01-02-2023</td><td>1120000</td><td>1100000</td><td>1.79</td></tr><tr><td>3</td><td>oneplus</td><td>01-03-2023</td><td>1160000</td><td>1120000</td><td>3.45</td></tr><tr><td>3</td><td>oneplus</td><td>01-04-2023</td><td>1170000</td><td>1160000</td><td>0.85</td></tr><tr><td>3</td><td>oneplus</td><td>01-05-2023</td><td>1175000</td><td>1170000</td><td>0.43</td></tr><tr><td>3</td><td>oneplus</td><td>01-06-2023</td><td>1200000</td><td>1175000</td><td>2.08</td></tr></tbody></table></div>"
      ]
     },
     "metadata": {
      "application/vnd.databricks.v1+output": {
       "addedWidgets": {},
       "aggData": [],
       "aggError": "",
       "aggOverflow": false,
       "aggSchema": [],
       "aggSeriesLimitReached": false,
       "aggType": "",
       "arguments": {},
       "columnCustomDisplayInfos": {},
       "data": [
        [
         1,
         "iphone",
         "01-01-2023",
         1500000,
         null,
         null
        ],
        [
         1,
         "iphone",
         "01-02-2023",
         1300000,
         1500000,
         -15.38
        ],
        [
         1,
         "iphone",
         "01-03-2023",
         1600000,
         1300000,
         18.75
        ],
        [
         1,
         "iphone",
         "01-04-2023",
         1700000,
         1600000,
         5.88
        ],
        [
         1,
         "iphone",
         "01-05-2023",
         1200000,
         1700000,
         -41.67
        ],
        [
         1,
         "iphone",
         "01-06-2023",
         1100000,
         1200000,
         -9.09
        ],
        [
         2,
         "samsung",
         "01-01-2023",
         1100000,
         null,
         null
        ],
        [
         2,
         "samsung",
         "01-02-2023",
         1120000,
         1100000,
         1.79
        ],
        [
         2,
         "samsung",
         "01-03-2023",
         1080000,
         1120000,
         -3.7
        ],
        [
         2,
         "samsung",
         "01-04-2023",
         1800000,
         1080000,
         40.0
        ],
        [
         2,
         "samsung",
         "01-05-2023",
         980000,
         1800000,
         -83.67
        ],
        [
         2,
         "samsung",
         "01-06-2023",
         1100000,
         980000,
         10.91
        ],
        [
         3,
         "oneplus",
         "01-01-2023",
         1100000,
         null,
         null
        ],
        [
         3,
         "oneplus",
         "01-02-2023",
         1120000,
         1100000,
         1.79
        ],
        [
         3,
         "oneplus",
         "01-03-2023",
         1160000,
         1120000,
         3.45
        ],
        [
         3,
         "oneplus",
         "01-04-2023",
         1170000,
         1160000,
         0.85
        ],
        [
         3,
         "oneplus",
         "01-05-2023",
         1175000,
         1170000,
         0.43
        ],
        [
         3,
         "oneplus",
         "01-06-2023",
         1200000,
         1175000,
         2.08
        ]
       ],
       "datasetInfos": [],
       "dbfsResultPath": null,
       "isJsonSchema": true,
       "metadata": {},
       "overflow": false,
       "plotOptions": {
        "customPlotOptions": {},
        "displayType": "table",
        "pivotAggregation": null,
        "pivotColumns": null,
        "xColumns": null,
        "yColumns": null
       },
       "removedWidgets": [],
       "schema": [
        {
         "metadata": "{}",
         "name": "cmp_id",
         "type": "\"long\""
        },
        {
         "metadata": "{}",
         "name": "name",
         "type": "\"string\""
        },
        {
         "metadata": "{}",
         "name": "date",
         "type": "\"string\""
        },
        {
         "metadata": "{}",
         "name": "sales",
         "type": "\"long\""
        },
        {
         "metadata": "{}",
         "name": "last_mon_sale",
         "type": "\"long\""
        },
        {
         "metadata": "{}",
         "name": "prof_or_loss",
         "type": "\"double\""
        }
       ],
       "type": "table"
      }
     },
     "output_type": "display_data"
    }
   ],
   "source": [
    "#%AGE OF LOSS OR GAIN BASED ON PREVIOUS MONTH SALES\n",
    "res_df = last_month_df.withColumn(\n",
    "    \"prof_or_loss\",\n",
    "    round(((col(\"sales\") - col(\"last_mon_sale\")) / col(\"sales\")) * 100, 2),\n",
    ")\n",
    "display(res_df)"
   ]
  },
  {
   "cell_type": "code",
   "execution_count": 0,
   "metadata": {
    "application/vnd.databricks.v1+cell": {
     "cellMetadata": {
      "byteLimit": 2048000,
      "rowLimit": 10000
     },
     "inputWidgets": {},
     "nuid": "e4a29416-f49c-4a76-9514-8740099239c9",
     "showTitle": false,
     "tableResultSettingsMap": {},
     "title": ""
    }
   },
   "outputs": [
    {
     "output_type": "display_data",
     "data": {
      "text/html": [
       "<style scoped>\n",
       "  .table-result-container {\n",
       "    max-height: 300px;\n",
       "    overflow: auto;\n",
       "  }\n",
       "  table, th, td {\n",
       "    border: 1px solid black;\n",
       "    border-collapse: collapse;\n",
       "  }\n",
       "  th, td {\n",
       "    padding: 5px;\n",
       "  }\n",
       "  th {\n",
       "    text-align: left;\n",
       "  }\n",
       "</style><div class='table-result-container'><table class='table-result'><thead style='background-color: white'><tr><th>cmp_id</th><th>name</th><th>date</th><th>sales</th><th>tot_sale</th><th>%sale_per_month</th></tr></thead><tbody><tr><td>1</td><td>iphone</td><td>01-01-2023</td><td>1500000</td><td>8400000</td><td>17.86</td></tr><tr><td>1</td><td>iphone</td><td>01-02-2023</td><td>1300000</td><td>8400000</td><td>15.48</td></tr><tr><td>1</td><td>iphone</td><td>01-03-2023</td><td>1600000</td><td>8400000</td><td>19.05</td></tr><tr><td>1</td><td>iphone</td><td>01-04-2023</td><td>1700000</td><td>8400000</td><td>20.24</td></tr><tr><td>1</td><td>iphone</td><td>01-05-2023</td><td>1200000</td><td>8400000</td><td>14.29</td></tr><tr><td>1</td><td>iphone</td><td>01-06-2023</td><td>1100000</td><td>8400000</td><td>13.1</td></tr><tr><td>2</td><td>samsung</td><td>01-01-2023</td><td>1100000</td><td>7180000</td><td>15.32</td></tr><tr><td>2</td><td>samsung</td><td>01-02-2023</td><td>1120000</td><td>7180000</td><td>15.6</td></tr><tr><td>2</td><td>samsung</td><td>01-03-2023</td><td>1080000</td><td>7180000</td><td>15.04</td></tr><tr><td>2</td><td>samsung</td><td>01-04-2023</td><td>1800000</td><td>7180000</td><td>25.07</td></tr><tr><td>2</td><td>samsung</td><td>01-05-2023</td><td>980000</td><td>7180000</td><td>13.65</td></tr><tr><td>2</td><td>samsung</td><td>01-06-2023</td><td>1100000</td><td>7180000</td><td>15.32</td></tr><tr><td>3</td><td>oneplus</td><td>01-01-2023</td><td>1100000</td><td>6925000</td><td>15.88</td></tr><tr><td>3</td><td>oneplus</td><td>01-02-2023</td><td>1120000</td><td>6925000</td><td>16.17</td></tr><tr><td>3</td><td>oneplus</td><td>01-03-2023</td><td>1160000</td><td>6925000</td><td>16.75</td></tr><tr><td>3</td><td>oneplus</td><td>01-04-2023</td><td>1170000</td><td>6925000</td><td>16.9</td></tr><tr><td>3</td><td>oneplus</td><td>01-05-2023</td><td>1175000</td><td>6925000</td><td>16.97</td></tr><tr><td>3</td><td>oneplus</td><td>01-06-2023</td><td>1200000</td><td>6925000</td><td>17.33</td></tr></tbody></table></div>"
      ]
     },
     "metadata": {
      "application/vnd.databricks.v1+output": {
       "addedWidgets": {},
       "aggData": [],
       "aggError": "",
       "aggOverflow": false,
       "aggSchema": [],
       "aggSeriesLimitReached": false,
       "aggType": "",
       "arguments": {},
       "columnCustomDisplayInfos": {},
       "data": [
        [
         1,
         "iphone",
         "01-01-2023",
         1500000,
         8400000,
         17.86
        ],
        [
         1,
         "iphone",
         "01-02-2023",
         1300000,
         8400000,
         15.48
        ],
        [
         1,
         "iphone",
         "01-03-2023",
         1600000,
         8400000,
         19.05
        ],
        [
         1,
         "iphone",
         "01-04-2023",
         1700000,
         8400000,
         20.24
        ],
        [
         1,
         "iphone",
         "01-05-2023",
         1200000,
         8400000,
         14.29
        ],
        [
         1,
         "iphone",
         "01-06-2023",
         1100000,
         8400000,
         13.1
        ],
        [
         2,
         "samsung",
         "01-01-2023",
         1100000,
         7180000,
         15.32
        ],
        [
         2,
         "samsung",
         "01-02-2023",
         1120000,
         7180000,
         15.6
        ],
        [
         2,
         "samsung",
         "01-03-2023",
         1080000,
         7180000,
         15.04
        ],
        [
         2,
         "samsung",
         "01-04-2023",
         1800000,
         7180000,
         25.07
        ],
        [
         2,
         "samsung",
         "01-05-2023",
         980000,
         7180000,
         13.65
        ],
        [
         2,
         "samsung",
         "01-06-2023",
         1100000,
         7180000,
         15.32
        ],
        [
         3,
         "oneplus",
         "01-01-2023",
         1100000,
         6925000,
         15.88
        ],
        [
         3,
         "oneplus",
         "01-02-2023",
         1120000,
         6925000,
         16.17
        ],
        [
         3,
         "oneplus",
         "01-03-2023",
         1160000,
         6925000,
         16.75
        ],
        [
         3,
         "oneplus",
         "01-04-2023",
         1170000,
         6925000,
         16.9
        ],
        [
         3,
         "oneplus",
         "01-05-2023",
         1175000,
         6925000,
         16.97
        ],
        [
         3,
         "oneplus",
         "01-06-2023",
         1200000,
         6925000,
         17.33
        ]
       ],
       "datasetInfos": [],
       "dbfsResultPath": null,
       "isJsonSchema": true,
       "metadata": {},
       "overflow": false,
       "plotOptions": {
        "customPlotOptions": {},
        "displayType": "table",
        "pivotAggregation": null,
        "pivotColumns": null,
        "xColumns": null,
        "yColumns": null
       },
       "removedWidgets": [],
       "schema": [
        {
         "metadata": "{}",
         "name": "cmp_id",
         "type": "\"long\""
        },
        {
         "metadata": "{}",
         "name": "name",
         "type": "\"string\""
        },
        {
         "metadata": "{}",
         "name": "date",
         "type": "\"string\""
        },
        {
         "metadata": "{}",
         "name": "sales",
         "type": "\"long\""
        },
        {
         "metadata": "{}",
         "name": "tot_sale",
         "type": "\"long\""
        },
        {
         "metadata": "{}",
         "name": "%sale_per_month",
         "type": "\"double\""
        }
       ],
       "type": "table"
      }
     },
     "output_type": "display_data"
    }
   ],
   "source": [
    "# WHAT IS THE %AGE OF SALES EACH MONTH BASED ON LAST 6 MONTH SALES\n",
    "ans_df = prod_df.withColumn(\n",
    "    \"tot_sale\", sum(\"sales\").over(Window.partitionBy(\"cmp_id\"))\n",
    ").withColumn(\"%sale_per_month\", round((col(\"sales\") / col(\"tot_sale\")) * 100, 2))\n",
    "display(ans_df)"
   ]
  }
 ],
 "metadata": {
  "application/vnd.databricks.v1+notebook": {
   "computePreferences": null,
   "dashboards": [],
   "environmentMetadata": {
    "base_environment": "",
    "environment_version": "1"
   },
   "inputWidgetPreferences": null,
   "language": "python",
   "notebookMetadata": {
    "pythonIndentUnit": 4
   },
   "notebookName": "WINDOW FUNCTIONS Lead, Lag",
   "widgets": {}
  }
 },
 "nbformat": 4,
 "nbformat_minor": 0
}