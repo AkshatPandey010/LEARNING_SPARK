{
 "cells": [
  {
   "cell_type": "code",
   "execution_count": 0,
   "metadata": {
    "application/vnd.databricks.v1+cell": {
     "cellMetadata": {
      "byteLimit": 2048000,
      "rowLimit": 10000
     },
     "inputWidgets": {},
     "nuid": "5fdc97e8-467e-44cc-8c22-7cd7ffa88592",
     "showTitle": false,
     "tableResultSettingsMap": {},
     "title": ""
    }
   },
   "outputs": [],
   "source": [
    "from pyspark.sql.functions import *\n",
    "from pyspark.sql.types import *"
   ]
  },
  {
   "cell_type": "code",
   "execution_count": 0,
   "metadata": {
    "application/vnd.databricks.v1+cell": {
     "cellMetadata": {
      "byteLimit": 2048000,
      "rowLimit": 10000
     },
     "inputWidgets": {},
     "nuid": "d8f4c105-a910-4ceb-86e5-be599554fa9b",
     "showTitle": false,
     "tableResultSettingsMap": {},
     "title": ""
    }
   },
   "outputs": [],
   "source": [
    "customer_data = [(1,'manish','patna',\"30-05-2022\"),\n",
    "(2,'vikash','kolkata',\"12-03-2023\"),\n",
    "(3,'nikita','delhi',\"25-06-2023\"),\n",
    "(4,'rahul','ranchi',\"24-03-2023\"),\n",
    "(5,'mahesh','jaipur',\"22-03-2023\"),\n",
    "(6,'prantosh','kolkata',\"18-10-2022\"),\n",
    "(7,'raman','patna',\"30-12-2022\"),\n",
    "(8,'prakash','ranchi',\"24-02-2023\"),\n",
    "(9,'ragini','kolkata',\"03-03-2023\"),\n",
    "(10,'raushan','jaipur',\"05-02-2023\")]\n",
    "customer_schema=['customer_id','customer_name','address','date_of_joining']\n",
    "sales_data = [(1,22,10,\"01-06-2022\"),\n",
    "(1,27,5,\"03-02-2023\"),\n",
    "(2,5,3,\"01-06-2023\"),\n",
    "(5,22,1,\"22-03-2023\"),\n",
    "(7,22,4,\"03-02-2023\"),\n",
    "(9,5,6,\"03-03-2023\"),\n",
    "(2,1,12,\"15-06-2023\"),\n",
    "(1,56,2,\"25-06-2023\"),\n",
    "(5,12,5,\"15-04-2023\"),\n",
    "(11,12,76,\"12-03-2023\")]\n",
    "sales_schema=['customer_id','product_id','quantity','date_of_purchase']\n",
    "product_data = [(1, 'fanta',20),\n",
    "(2, 'dew',22),\n",
    "(5, 'sprite',40),\n",
    "(7, 'redbull',100),\n",
    "(12,'mazza',45),\n",
    "(22,'coke',27),\n",
    "(25,'limca',21),\n",
    "(27,'pepsi',14),\n",
    "(56,'sting',10)]\n",
    "product_schema=['id','name','price']"
   ]
  },
  {
   "cell_type": "code",
   "execution_count": 0,
   "metadata": {
    "application/vnd.databricks.v1+cell": {
     "cellMetadata": {
      "byteLimit": 2048000,
      "rowLimit": 10000
     },
     "inputWidgets": {},
     "nuid": "acfb37ee-fadf-4120-bfee-9192fe97e49a",
     "showTitle": false,
     "tableResultSettingsMap": {},
     "title": ""
    }
   },
   "outputs": [],
   "source": [
    "customer_df = spark.createDataFrame(data = customer_data, schema = customer_schema)\n",
    "sales_df = spark.createDataFrame(data = sales_data, schema = sales_schema)\n",
    "product_df = spark.createDataFrame(data = product_data, schema = product_schema)"
   ]
  },
  {
   "cell_type": "code",
   "execution_count": 0,
   "metadata": {
    "application/vnd.databricks.v1+cell": {
     "cellMetadata": {
      "byteLimit": 2048000,
      "rowLimit": 10000
     },
     "inputWidgets": {},
     "nuid": "15f9a349-c1ad-4861-a181-eed51a93f5ee",
     "showTitle": false,
     "tableResultSettingsMap": {},
     "title": ""
    }
   },
   "outputs": [
    {
     "output_type": "display_data",
     "data": {
      "text/html": [
       "<style scoped>\n",
       "  .table-result-container {\n",
       "    max-height: 300px;\n",
       "    overflow: auto;\n",
       "  }\n",
       "  table, th, td {\n",
       "    border: 1px solid black;\n",
       "    border-collapse: collapse;\n",
       "  }\n",
       "  th, td {\n",
       "    padding: 5px;\n",
       "  }\n",
       "  th {\n",
       "    text-align: left;\n",
       "  }\n",
       "</style><div class='table-result-container'><table class='table-result'><thead style='background-color: white'><tr><th>customer_id</th><th>customer_name</th><th>address</th><th>date_of_joining</th></tr></thead><tbody><tr><td>1</td><td>manish</td><td>patna</td><td>30-05-2022</td></tr><tr><td>2</td><td>vikash</td><td>kolkata</td><td>12-03-2023</td></tr><tr><td>3</td><td>nikita</td><td>delhi</td><td>25-06-2023</td></tr><tr><td>4</td><td>rahul</td><td>ranchi</td><td>24-03-2023</td></tr><tr><td>5</td><td>mahesh</td><td>jaipur</td><td>22-03-2023</td></tr><tr><td>6</td><td>prantosh</td><td>kolkata</td><td>18-10-2022</td></tr><tr><td>7</td><td>raman</td><td>patna</td><td>30-12-2022</td></tr><tr><td>8</td><td>prakash</td><td>ranchi</td><td>24-02-2023</td></tr><tr><td>9</td><td>ragini</td><td>kolkata</td><td>03-03-2023</td></tr><tr><td>10</td><td>raushan</td><td>jaipur</td><td>05-02-2023</td></tr></tbody></table></div>"
      ]
     },
     "metadata": {
      "application/vnd.databricks.v1+output": {
       "addedWidgets": {},
       "aggData": [],
       "aggError": "",
       "aggOverflow": false,
       "aggSchema": [],
       "aggSeriesLimitReached": false,
       "aggType": "",
       "arguments": {},
       "columnCustomDisplayInfos": {},
       "data": [
        [
         1,
         "manish",
         "patna",
         "30-05-2022"
        ],
        [
         2,
         "vikash",
         "kolkata",
         "12-03-2023"
        ],
        [
         3,
         "nikita",
         "delhi",
         "25-06-2023"
        ],
        [
         4,
         "rahul",
         "ranchi",
         "24-03-2023"
        ],
        [
         5,
         "mahesh",
         "jaipur",
         "22-03-2023"
        ],
        [
         6,
         "prantosh",
         "kolkata",
         "18-10-2022"
        ],
        [
         7,
         "raman",
         "patna",
         "30-12-2022"
        ],
        [
         8,
         "prakash",
         "ranchi",
         "24-02-2023"
        ],
        [
         9,
         "ragini",
         "kolkata",
         "03-03-2023"
        ],
        [
         10,
         "raushan",
         "jaipur",
         "05-02-2023"
        ]
       ],
       "datasetInfos": [],
       "dbfsResultPath": null,
       "isJsonSchema": true,
       "metadata": {},
       "overflow": false,
       "plotOptions": {
        "customPlotOptions": {},
        "displayType": "table",
        "pivotAggregation": null,
        "pivotColumns": null,
        "xColumns": null,
        "yColumns": null
       },
       "removedWidgets": [],
       "schema": [
        {
         "metadata": "{}",
         "name": "customer_id",
         "type": "\"long\""
        },
        {
         "metadata": "{}",
         "name": "customer_name",
         "type": "\"string\""
        },
        {
         "metadata": "{}",
         "name": "address",
         "type": "\"string\""
        },
        {
         "metadata": "{}",
         "name": "date_of_joining",
         "type": "\"string\""
        }
       ],
       "type": "table"
      }
     },
     "output_type": "display_data"
    },
    {
     "output_type": "display_data",
     "data": {
      "text/html": [
       "<style scoped>\n",
       "  .table-result-container {\n",
       "    max-height: 300px;\n",
       "    overflow: auto;\n",
       "  }\n",
       "  table, th, td {\n",
       "    border: 1px solid black;\n",
       "    border-collapse: collapse;\n",
       "  }\n",
       "  th, td {\n",
       "    padding: 5px;\n",
       "  }\n",
       "  th {\n",
       "    text-align: left;\n",
       "  }\n",
       "</style><div class='table-result-container'><table class='table-result'><thead style='background-color: white'><tr><th>customer_id</th><th>product_id</th><th>quantity</th><th>date_of_purchase</th></tr></thead><tbody><tr><td>1</td><td>22</td><td>10</td><td>01-06-2022</td></tr><tr><td>1</td><td>27</td><td>5</td><td>03-02-2023</td></tr><tr><td>2</td><td>5</td><td>3</td><td>01-06-2023</td></tr><tr><td>5</td><td>22</td><td>1</td><td>22-03-2023</td></tr><tr><td>7</td><td>22</td><td>4</td><td>03-02-2023</td></tr><tr><td>9</td><td>5</td><td>6</td><td>03-03-2023</td></tr><tr><td>2</td><td>1</td><td>12</td><td>15-06-2023</td></tr><tr><td>1</td><td>56</td><td>2</td><td>25-06-2023</td></tr><tr><td>5</td><td>12</td><td>5</td><td>15-04-2023</td></tr><tr><td>11</td><td>12</td><td>76</td><td>12-03-2023</td></tr></tbody></table></div>"
      ]
     },
     "metadata": {
      "application/vnd.databricks.v1+output": {
       "addedWidgets": {},
       "aggData": [],
       "aggError": "",
       "aggOverflow": false,
       "aggSchema": [],
       "aggSeriesLimitReached": false,
       "aggType": "",
       "arguments": {},
       "columnCustomDisplayInfos": {},
       "data": [
        [
         1,
         22,
         10,
         "01-06-2022"
        ],
        [
         1,
         27,
         5,
         "03-02-2023"
        ],
        [
         2,
         5,
         3,
         "01-06-2023"
        ],
        [
         5,
         22,
         1,
         "22-03-2023"
        ],
        [
         7,
         22,
         4,
         "03-02-2023"
        ],
        [
         9,
         5,
         6,
         "03-03-2023"
        ],
        [
         2,
         1,
         12,
         "15-06-2023"
        ],
        [
         1,
         56,
         2,
         "25-06-2023"
        ],
        [
         5,
         12,
         5,
         "15-04-2023"
        ],
        [
         11,
         12,
         76,
         "12-03-2023"
        ]
       ],
       "datasetInfos": [],
       "dbfsResultPath": null,
       "isJsonSchema": true,
       "metadata": {},
       "overflow": false,
       "plotOptions": {
        "customPlotOptions": {},
        "displayType": "table",
        "pivotAggregation": null,
        "pivotColumns": null,
        "xColumns": null,
        "yColumns": null
       },
       "removedWidgets": [],
       "schema": [
        {
         "metadata": "{}",
         "name": "customer_id",
         "type": "\"long\""
        },
        {
         "metadata": "{}",
         "name": "product_id",
         "type": "\"long\""
        },
        {
         "metadata": "{}",
         "name": "quantity",
         "type": "\"long\""
        },
        {
         "metadata": "{}",
         "name": "date_of_purchase",
         "type": "\"string\""
        }
       ],
       "type": "table"
      }
     },
     "output_type": "display_data"
    },
    {
     "output_type": "display_data",
     "data": {
      "text/html": [
       "<style scoped>\n",
       "  .table-result-container {\n",
       "    max-height: 300px;\n",
       "    overflow: auto;\n",
       "  }\n",
       "  table, th, td {\n",
       "    border: 1px solid black;\n",
       "    border-collapse: collapse;\n",
       "  }\n",
       "  th, td {\n",
       "    padding: 5px;\n",
       "  }\n",
       "  th {\n",
       "    text-align: left;\n",
       "  }\n",
       "</style><div class='table-result-container'><table class='table-result'><thead style='background-color: white'><tr><th>id</th><th>name</th><th>price</th></tr></thead><tbody><tr><td>1</td><td>fanta</td><td>20</td></tr><tr><td>2</td><td>dew</td><td>22</td></tr><tr><td>5</td><td>sprite</td><td>40</td></tr><tr><td>7</td><td>redbull</td><td>100</td></tr><tr><td>12</td><td>mazza</td><td>45</td></tr><tr><td>22</td><td>coke</td><td>27</td></tr><tr><td>25</td><td>limca</td><td>21</td></tr><tr><td>27</td><td>pepsi</td><td>14</td></tr><tr><td>56</td><td>sting</td><td>10</td></tr></tbody></table></div>"
      ]
     },
     "metadata": {
      "application/vnd.databricks.v1+output": {
       "addedWidgets": {},
       "aggData": [],
       "aggError": "",
       "aggOverflow": false,
       "aggSchema": [],
       "aggSeriesLimitReached": false,
       "aggType": "",
       "arguments": {},
       "columnCustomDisplayInfos": {},
       "data": [
        [
         1,
         "fanta",
         20
        ],
        [
         2,
         "dew",
         22
        ],
        [
         5,
         "sprite",
         40
        ],
        [
         7,
         "redbull",
         100
        ],
        [
         12,
         "mazza",
         45
        ],
        [
         22,
         "coke",
         27
        ],
        [
         25,
         "limca",
         21
        ],
        [
         27,
         "pepsi",
         14
        ],
        [
         56,
         "sting",
         10
        ]
       ],
       "datasetInfos": [],
       "dbfsResultPath": null,
       "isJsonSchema": true,
       "metadata": {},
       "overflow": false,
       "plotOptions": {
        "customPlotOptions": {},
        "displayType": "table",
        "pivotAggregation": null,
        "pivotColumns": null,
        "xColumns": null,
        "yColumns": null
       },
       "removedWidgets": [],
       "schema": [
        {
         "metadata": "{}",
         "name": "id",
         "type": "\"long\""
        },
        {
         "metadata": "{}",
         "name": "name",
         "type": "\"string\""
        },
        {
         "metadata": "{}",
         "name": "price",
         "type": "\"long\""
        }
       ],
       "type": "table"
      }
     },
     "output_type": "display_data"
    }
   ],
   "source": [
    "display(customer_df)\n",
    "display(sales_df)\n",
    "display(product_df)"
   ]
  },
  {
   "cell_type": "code",
   "execution_count": 0,
   "metadata": {
    "application/vnd.databricks.v1+cell": {
     "cellMetadata": {
      "byteLimit": 2048000,
      "rowLimit": 10000
     },
     "inputWidgets": {},
     "nuid": "774e1894-b3d3-494d-bf3d-fcd3cbb88cc8",
     "showTitle": false,
     "tableResultSettingsMap": {},
     "title": ""
    }
   },
   "outputs": [],
   "source": [
    "#RENAMING COLUMN FOR BETTER UNDERSTANDING\n",
    "customer_df = customer_df.withColumnRenamed('customer_id', 'cust_id')"
   ]
  },
  {
   "cell_type": "code",
   "execution_count": 0,
   "metadata": {
    "application/vnd.databricks.v1+cell": {
     "cellMetadata": {
      "byteLimit": 2048000,
      "rowLimit": 10000
     },
     "inputWidgets": {},
     "nuid": "d9cbea71-9b36-4e78-aa87-43f435ca620e",
     "showTitle": false,
     "tableResultSettingsMap": {},
     "title": ""
    }
   },
   "outputs": [
    {
     "output_type": "display_data",
     "data": {
      "text/html": [
       "<style scoped>\n",
       "  .table-result-container {\n",
       "    max-height: 300px;\n",
       "    overflow: auto;\n",
       "  }\n",
       "  table, th, td {\n",
       "    border: 1px solid black;\n",
       "    border-collapse: collapse;\n",
       "  }\n",
       "  th, td {\n",
       "    padding: 5px;\n",
       "  }\n",
       "  th {\n",
       "    text-align: left;\n",
       "  }\n",
       "</style><div class='table-result-container'><table class='table-result'><thead style='background-color: white'><tr><th>cust_id</th><th>customer_name</th><th>sales_tbl_cust_id</th><th>product_id</th><th>quantity</th></tr></thead><tbody><tr><td>1</td><td>manish</td><td>1</td><td>22</td><td>10</td></tr><tr><td>1</td><td>manish</td><td>1</td><td>27</td><td>5</td></tr><tr><td>1</td><td>manish</td><td>1</td><td>56</td><td>2</td></tr><tr><td>2</td><td>vikash</td><td>2</td><td>5</td><td>3</td></tr><tr><td>2</td><td>vikash</td><td>2</td><td>1</td><td>12</td></tr><tr><td>5</td><td>mahesh</td><td>5</td><td>22</td><td>1</td></tr><tr><td>5</td><td>mahesh</td><td>5</td><td>12</td><td>5</td></tr><tr><td>7</td><td>raman</td><td>7</td><td>22</td><td>4</td></tr><tr><td>9</td><td>ragini</td><td>9</td><td>5</td><td>6</td></tr></tbody></table></div>"
      ]
     },
     "metadata": {
      "application/vnd.databricks.v1+output": {
       "addedWidgets": {},
       "aggData": [],
       "aggError": "",
       "aggOverflow": false,
       "aggSchema": [],
       "aggSeriesLimitReached": false,
       "aggType": "",
       "arguments": {},
       "columnCustomDisplayInfos": {},
       "data": [
        [
         1,
         "manish",
         1,
         22,
         10
        ],
        [
         1,
         "manish",
         1,
         27,
         5
        ],
        [
         1,
         "manish",
         1,
         56,
         2
        ],
        [
         2,
         "vikash",
         2,
         5,
         3
        ],
        [
         2,
         "vikash",
         2,
         1,
         12
        ],
        [
         5,
         "mahesh",
         5,
         22,
         1
        ],
        [
         5,
         "mahesh",
         5,
         12,
         5
        ],
        [
         7,
         "raman",
         7,
         22,
         4
        ],
        [
         9,
         "ragini",
         9,
         5,
         6
        ]
       ],
       "datasetInfos": [],
       "dbfsResultPath": null,
       "isJsonSchema": true,
       "metadata": {},
       "overflow": false,
       "plotOptions": {
        "customPlotOptions": {},
        "displayType": "table",
        "pivotAggregation": null,
        "pivotColumns": null,
        "xColumns": null,
        "yColumns": null
       },
       "removedWidgets": [],
       "schema": [
        {
         "metadata": "{}",
         "name": "cust_id",
         "type": "\"long\""
        },
        {
         "metadata": "{}",
         "name": "customer_name",
         "type": "\"string\""
        },
        {
         "metadata": "{}",
         "name": "sales_tbl_cust_id",
         "type": "\"long\""
        },
        {
         "metadata": "{}",
         "name": "product_id",
         "type": "\"long\""
        },
        {
         "metadata": "{}",
         "name": "quantity",
         "type": "\"long\""
        }
       ],
       "type": "table"
      }
     },
     "output_type": "display_data"
    }
   ],
   "source": [
    "joined_df = customer_df.join(sales_df, sales_df[\"customer_id\"] == customer_df[\"cust_id\"], 'inner')\n",
    "display(joined_df.select('cust_id', 'customer_name', col('customer_id').alias('sales_tbl_cust_id'), 'product_id', 'quantity'))"
   ]
  },
  {
   "cell_type": "code",
   "execution_count": 0,
   "metadata": {
    "application/vnd.databricks.v1+cell": {
     "cellMetadata": {
      "byteLimit": 2048000,
      "rowLimit": 10000
     },
     "inputWidgets": {},
     "nuid": "91257ce5-1739-43e0-bd39-2b88f933eb26",
     "showTitle": false,
     "tableResultSettingsMap": {},
     "title": ""
    }
   },
   "outputs": [
    {
     "output_type": "display_data",
     "data": {
      "text/html": [
       "<style scoped>\n",
       "  .table-result-container {\n",
       "    max-height: 300px;\n",
       "    overflow: auto;\n",
       "  }\n",
       "  table, th, td {\n",
       "    border: 1px solid black;\n",
       "    border-collapse: collapse;\n",
       "  }\n",
       "  th, td {\n",
       "    padding: 5px;\n",
       "  }\n",
       "  th {\n",
       "    text-align: left;\n",
       "  }\n",
       "</style><div class='table-result-container'><table class='table-result'><thead style='background-color: white'><tr><th>cust_id</th><th>count</th></tr></thead><tbody><tr><td>1</td><td>3</td></tr><tr><td>2</td><td>2</td></tr><tr><td>5</td><td>2</td></tr><tr><td>7</td><td>1</td></tr><tr><td>9</td><td>1</td></tr></tbody></table></div>"
      ]
     },
     "metadata": {
      "application/vnd.databricks.v1+output": {
       "addedWidgets": {},
       "aggData": [],
       "aggError": "",
       "aggOverflow": false,
       "aggSchema": [],
       "aggSeriesLimitReached": false,
       "aggType": "",
       "arguments": {},
       "columnCustomDisplayInfos": {},
       "data": [
        [
         1,
         3
        ],
        [
         2,
         2
        ],
        [
         5,
         2
        ],
        [
         7,
         1
        ],
        [
         9,
         1
        ]
       ],
       "datasetInfos": [],
       "dbfsResultPath": null,
       "isJsonSchema": true,
       "metadata": {},
       "overflow": false,
       "plotOptions": {
        "customPlotOptions": {},
        "displayType": "table",
        "pivotAggregation": null,
        "pivotColumns": null,
        "xColumns": null,
        "yColumns": null
       },
       "removedWidgets": [],
       "schema": [
        {
         "metadata": "{}",
         "name": "cust_id",
         "type": "\"long\""
        },
        {
         "metadata": "{}",
         "name": "count",
         "type": "\"long\""
        }
       ],
       "type": "table"
      }
     },
     "output_type": "display_data"
    }
   ],
   "source": [
    "# COUNTING RECORDS PER CUSTOMER\n",
    "temp_df = joined_df.select('cust_id', 'customer_name', col('customer_id').alias('sales_tbl_cust_id'), 'product_id', 'quantity')\n",
    "display(temp_df.groupBy('cust_id').agg(count(\"product_id\").alias('count')))"
   ]
  },
  {
   "cell_type": "code",
   "execution_count": 0,
   "metadata": {
    "application/vnd.databricks.v1+cell": {
     "cellMetadata": {},
     "inputWidgets": {},
     "nuid": "59672cb7-5af1-4e41-b0aa-33f2d2bac774",
     "showTitle": false,
     "tableResultSettingsMap": {},
     "title": ""
    }
   },
   "outputs": [],
   "source": [
    "#MULTIPLE COLUMN JOIN\n",
    "customer_df.join(sales_df, (sales_df['customer_id'] == customer_df['cust_id']) & (customer_df['another_cloumn'] == sales_df['another_column']), 'inner')\n",
    "\n"
   ]
  },
  {
   "cell_type": "code",
   "execution_count": 0,
   "metadata": {
    "application/vnd.databricks.v1+cell": {
     "cellMetadata": {
      "byteLimit": 2048000,
      "rowLimit": 10000
     },
     "inputWidgets": {},
     "nuid": "561d0c44-e4a3-4674-a11e-58bf2eb512f0",
     "showTitle": false,
     "tableResultSettingsMap": {},
     "title": ""
    }
   },
   "outputs": [
    {
     "output_type": "display_data",
     "data": {
      "text/html": [
       "<style scoped>\n",
       "  .table-result-container {\n",
       "    max-height: 300px;\n",
       "    overflow: auto;\n",
       "  }\n",
       "  table, th, td {\n",
       "    border: 1px solid black;\n",
       "    border-collapse: collapse;\n",
       "  }\n",
       "  th, td {\n",
       "    padding: 5px;\n",
       "  }\n",
       "  th {\n",
       "    text-align: left;\n",
       "  }\n",
       "</style><div class='table-result-container'><table class='table-result'><thead style='background-color: white'><tr><th>cust_id</th><th>product_id</th><th>quantity</th><th>name</th><th>price</th></tr></thead><tbody><tr><td>1</td><td>22</td><td>10</td><td>coke</td><td>27</td></tr><tr><td>1</td><td>27</td><td>5</td><td>pepsi</td><td>14</td></tr><tr><td>1</td><td>56</td><td>2</td><td>sting</td><td>10</td></tr><tr><td>2</td><td>5</td><td>3</td><td>sprite</td><td>40</td></tr><tr><td>2</td><td>1</td><td>12</td><td>fanta</td><td>20</td></tr><tr><td>5</td><td>22</td><td>1</td><td>coke</td><td>27</td></tr><tr><td>5</td><td>12</td><td>5</td><td>mazza</td><td>45</td></tr><tr><td>7</td><td>22</td><td>4</td><td>coke</td><td>27</td></tr><tr><td>9</td><td>5</td><td>6</td><td>sprite</td><td>40</td></tr></tbody></table></div>"
      ]
     },
     "metadata": {
      "application/vnd.databricks.v1+output": {
       "addedWidgets": {},
       "aggData": [],
       "aggError": "",
       "aggOverflow": false,
       "aggSchema": [],
       "aggSeriesLimitReached": false,
       "aggType": "",
       "arguments": {},
       "columnCustomDisplayInfos": {},
       "data": [
        [
         1,
         22,
         10,
         "coke",
         27
        ],
        [
         1,
         27,
         5,
         "pepsi",
         14
        ],
        [
         1,
         56,
         2,
         "sting",
         10
        ],
        [
         2,
         5,
         3,
         "sprite",
         40
        ],
        [
         2,
         1,
         12,
         "fanta",
         20
        ],
        [
         5,
         22,
         1,
         "coke",
         27
        ],
        [
         5,
         12,
         5,
         "mazza",
         45
        ],
        [
         7,
         22,
         4,
         "coke",
         27
        ],
        [
         9,
         5,
         6,
         "sprite",
         40
        ]
       ],
       "datasetInfos": [],
       "dbfsResultPath": null,
       "isJsonSchema": true,
       "metadata": {},
       "overflow": false,
       "plotOptions": {
        "customPlotOptions": {},
        "displayType": "table",
        "pivotAggregation": null,
        "pivotColumns": null,
        "xColumns": null,
        "yColumns": null
       },
       "removedWidgets": [],
       "schema": [
        {
         "metadata": "{}",
         "name": "cust_id",
         "type": "\"long\""
        },
        {
         "metadata": "{}",
         "name": "product_id",
         "type": "\"long\""
        },
        {
         "metadata": "{}",
         "name": "quantity",
         "type": "\"long\""
        },
        {
         "metadata": "{}",
         "name": "name",
         "type": "\"string\""
        },
        {
         "metadata": "{}",
         "name": "price",
         "type": "\"long\""
        }
       ],
       "type": "table"
      }
     },
     "output_type": "display_data"
    }
   ],
   "source": [
    "#JOINING MULTIPLE TABLES\n",
    "multiple_join_df = customer_df.join(sales_df, sales_df['customer_id'] == customer_df['cust_id'], 'inner').join(product_df, sales_df['product_id'] == product_df['id'], 'left')\n",
    "res_df = multiple_join_df.select('cust_id', 'product_id', 'quantity', 'name', 'price')\n",
    "display(res_df)"
   ]
  },
  {
   "cell_type": "code",
   "execution_count": 0,
   "metadata": {
    "application/vnd.databricks.v1+cell": {
     "cellMetadata": {
      "byteLimit": 2048000,
      "rowLimit": 10000
     },
     "inputWidgets": {},
     "nuid": "c893a62f-a090-4884-8f7e-ba50ad1db8ed",
     "showTitle": false,
     "tableResultSettingsMap": {},
     "title": ""
    }
   },
   "outputs": [
    {
     "output_type": "display_data",
     "data": {
      "text/html": [
       "<style scoped>\n",
       "  .table-result-container {\n",
       "    max-height: 300px;\n",
       "    overflow: auto;\n",
       "  }\n",
       "  table, th, td {\n",
       "    border: 1px solid black;\n",
       "    border-collapse: collapse;\n",
       "  }\n",
       "  th, td {\n",
       "    padding: 5px;\n",
       "  }\n",
       "  th {\n",
       "    text-align: left;\n",
       "  }\n",
       "</style><div class='table-result-container'><table class='table-result'><thead style='background-color: white'><tr><th>cust_id</th><th>product_id</th><th>tot_purchase_amt</th></tr></thead><tbody><tr><td>1</td><td>22</td><td>27</td></tr><tr><td>1</td><td>27</td><td>14</td></tr><tr><td>1</td><td>56</td><td>10</td></tr><tr><td>2</td><td>5</td><td>40</td></tr><tr><td>2</td><td>1</td><td>20</td></tr><tr><td>5</td><td>22</td><td>27</td></tr><tr><td>5</td><td>12</td><td>45</td></tr><tr><td>7</td><td>22</td><td>27</td></tr><tr><td>9</td><td>5</td><td>40</td></tr></tbody></table></div>"
      ]
     },
     "metadata": {
      "application/vnd.databricks.v1+output": {
       "addedWidgets": {},
       "aggData": [],
       "aggError": "",
       "aggOverflow": false,
       "aggSchema": [],
       "aggSeriesLimitReached": false,
       "aggType": "",
       "arguments": {},
       "columnCustomDisplayInfos": {},
       "data": [
        [
         1,
         22,
         27
        ],
        [
         1,
         27,
         14
        ],
        [
         1,
         56,
         10
        ],
        [
         2,
         5,
         40
        ],
        [
         2,
         1,
         20
        ],
        [
         5,
         22,
         27
        ],
        [
         5,
         12,
         45
        ],
        [
         7,
         22,
         27
        ],
        [
         9,
         5,
         40
        ]
       ],
       "datasetInfos": [],
       "dbfsResultPath": null,
       "isJsonSchema": true,
       "metadata": {},
       "overflow": false,
       "plotOptions": {
        "customPlotOptions": {},
        "displayType": "table",
        "pivotAggregation": null,
        "pivotColumns": null,
        "xColumns": null,
        "yColumns": null
       },
       "removedWidgets": [],
       "schema": [
        {
         "metadata": "{}",
         "name": "cust_id",
         "type": "\"long\""
        },
        {
         "metadata": "{}",
         "name": "product_id",
         "type": "\"long\""
        },
        {
         "metadata": "{}",
         "name": "tot_purchase_amt",
         "type": "\"long\""
        }
       ],
       "type": "table"
      }
     },
     "output_type": "display_data"
    }
   ],
   "source": [
    "#CALCULATE TOTAL PURCHASE AMOUNT PER CUSTOMER AND PER PRODUCT\n",
    "calc_df = res_df.groupBy('cust_id', 'product_id').agg(sum('price').alias('tot_purchase_amt'))\n",
    "display(calc_df)"
   ]
  },
  {
   "cell_type": "code",
   "execution_count": 0,
   "metadata": {
    "application/vnd.databricks.v1+cell": {
     "cellMetadata": {},
     "inputWidgets": {},
     "nuid": "7abd544a-d573-4651-b33b-26e57f630d2a",
     "showTitle": false,
     "tableResultSettingsMap": {},
     "title": ""
    }
   },
   "outputs": [],
   "source": []
  }
 ],
 "metadata": {
  "application/vnd.databricks.v1+notebook": {
   "computePreferences": null,
   "dashboards": [],
   "environmentMetadata": {
    "base_environment": "",
    "environment_version": "1"
   },
   "inputWidgetPreferences": null,
   "language": "python",
   "notebookMetadata": {
    "pythonIndentUnit": 4
   },
   "notebookName": "JOINS IN PYSPARK",
   "widgets": {}
  }
 },
 "nbformat": 4,
 "nbformat_minor": 0
}