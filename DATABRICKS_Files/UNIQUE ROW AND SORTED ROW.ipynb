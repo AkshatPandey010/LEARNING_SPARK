{
 "cells": [
  {
   "cell_type": "code",
   "execution_count": 0,
   "metadata": {
    "application/vnd.databricks.v1+cell": {
     "cellMetadata": {
      "byteLimit": 2048000,
      "rowLimit": 10000
     },
     "inputWidgets": {},
     "nuid": "2347c0f9-6cd6-4b32-90e4-6e929380405d",
     "showTitle": false,
     "tableResultSettingsMap": {},
     "title": ""
    }
   },
   "outputs": [],
   "source": [
    "from pyspark.sql.functions import *\n",
    "from pyspark.sql.types import *"
   ]
  },
  {
   "cell_type": "code",
   "execution_count": 0,
   "metadata": {
    "application/vnd.databricks.v1+cell": {
     "cellMetadata": {
      "byteLimit": 2048000,
      "rowLimit": 10000
     },
     "inputWidgets": {},
     "nuid": "6176e3d6-4bda-46cc-8977-c9c7d635d6b7",
     "showTitle": false,
     "tableResultSettingsMap": {},
     "title": ""
    }
   },
   "outputs": [
    {
     "output_type": "display_data",
     "data": {
      "text/html": [
       "<style scoped>\n",
       "  .table-result-container {\n",
       "    max-height: 300px;\n",
       "    overflow: auto;\n",
       "  }\n",
       "  table, th, td {\n",
       "    border: 1px solid black;\n",
       "    border-collapse: collapse;\n",
       "  }\n",
       "  th, td {\n",
       "    padding: 5px;\n",
       "  }\n",
       "  th {\n",
       "    text-align: left;\n",
       "  }\n",
       "</style><div class='table-result-container'><table class='table-result'><thead style='background-color: white'><tr><th>id</th><th>name</th><th>sal</th><th>mgr_id</th></tr></thead><tbody><tr><td>10</td><td>Anil</td><td>50000</td><td>18</td></tr><tr><td>11</td><td>Vikas</td><td>75000</td><td>16</td></tr><tr><td>12</td><td>Nisha</td><td>40000</td><td>18</td></tr><tr><td>13</td><td>Nidhi</td><td>60000</td><td>17</td></tr><tr><td>14</td><td>Priya</td><td>80000</td><td>18</td></tr><tr><td>15</td><td>Mohit</td><td>45000</td><td>18</td></tr><tr><td>16</td><td>Rajesh</td><td>90000</td><td>10</td></tr><tr><td>17</td><td>Raman</td><td>55000</td><td>16</td></tr><tr><td>18</td><td>Sam</td><td>65000</td><td>17</td></tr><tr><td>15</td><td>Mohit</td><td>45000</td><td>18</td></tr><tr><td>13</td><td>Nidhi</td><td>60000</td><td>17</td></tr><tr><td>14</td><td>Priya</td><td>90000</td><td>18</td></tr><tr><td>18</td><td>Sam</td><td>65000</td><td>17</td></tr></tbody></table></div>"
      ]
     },
     "metadata": {
      "application/vnd.databricks.v1+output": {
       "addedWidgets": {},
       "aggData": [],
       "aggError": "",
       "aggOverflow": false,
       "aggSchema": [],
       "aggSeriesLimitReached": false,
       "aggType": "",
       "arguments": {},
       "columnCustomDisplayInfos": {},
       "data": [
        [
         10,
         "Anil",
         50000,
         18
        ],
        [
         11,
         "Vikas",
         75000,
         16
        ],
        [
         12,
         "Nisha",
         40000,
         18
        ],
        [
         13,
         "Nidhi",
         60000,
         17
        ],
        [
         14,
         "Priya",
         80000,
         18
        ],
        [
         15,
         "Mohit",
         45000,
         18
        ],
        [
         16,
         "Rajesh",
         90000,
         10
        ],
        [
         17,
         "Raman",
         55000,
         16
        ],
        [
         18,
         "Sam",
         65000,
         17
        ],
        [
         15,
         "Mohit",
         45000,
         18
        ],
        [
         13,
         "Nidhi",
         60000,
         17
        ],
        [
         14,
         "Priya",
         90000,
         18
        ],
        [
         18,
         "Sam",
         65000,
         17
        ]
       ],
       "datasetInfos": [],
       "dbfsResultPath": null,
       "isJsonSchema": true,
       "metadata": {},
       "overflow": false,
       "plotOptions": {
        "customPlotOptions": {},
        "displayType": "table",
        "pivotAggregation": null,
        "pivotColumns": null,
        "xColumns": null,
        "yColumns": null
       },
       "removedWidgets": [],
       "schema": [
        {
         "metadata": "{}",
         "name": "id",
         "type": "\"long\""
        },
        {
         "metadata": "{}",
         "name": "name",
         "type": "\"string\""
        },
        {
         "metadata": "{}",
         "name": "sal",
         "type": "\"long\""
        },
        {
         "metadata": "{}",
         "name": "mgr_id",
         "type": "\"long\""
        }
       ],
       "type": "table"
      }
     },
     "output_type": "display_data"
    }
   ],
   "source": [
    "emp_data=[(10 ,'Anil',50000, 18),\n",
    "(11 ,'Vikas',75000,  16),\n",
    "(12 ,'Nisha',40000,  18),\n",
    "(13 ,'Nidhi',60000,  17),\n",
    "(14 ,'Priya',80000,  18),\n",
    "(15 ,'Mohit',45000,  18),\n",
    "(16 ,'Rajesh',90000, 10),\n",
    "(17 ,'Raman',55000, 16),\n",
    "(18 ,'Sam',65000,   17),\n",
    "(15 ,'Mohit',45000,  18),\n",
    "(13 ,'Nidhi',60000,  17),      \n",
    "(14 ,'Priya',90000,  18),  \n",
    "(18 ,'Sam',65000,   17)]\n",
    "\n",
    "manager_df = spark.createDataFrame(data = emp_data, schema=['id','name','sal','mgr_id'])\n",
    "display(manager_df)"
   ]
  },
  {
   "cell_type": "code",
   "execution_count": 0,
   "metadata": {
    "application/vnd.databricks.v1+cell": {
     "cellMetadata": {
      "byteLimit": 2048000,
      "rowLimit": 10000
     },
     "inputWidgets": {},
     "nuid": "986e56bd-64f6-4e38-b174-0629a47f824d",
     "showTitle": false,
     "tableResultSettingsMap": {},
     "title": ""
    }
   },
   "outputs": [
    {
     "output_type": "display_data",
     "data": {
      "text/html": [
       "<style scoped>\n",
       "  .table-result-container {\n",
       "    max-height: 300px;\n",
       "    overflow: auto;\n",
       "  }\n",
       "  table, th, td {\n",
       "    border: 1px solid black;\n",
       "    border-collapse: collapse;\n",
       "  }\n",
       "  th, td {\n",
       "    padding: 5px;\n",
       "  }\n",
       "  th {\n",
       "    text-align: left;\n",
       "  }\n",
       "</style><div class='table-result-container'><table class='table-result'><thead style='background-color: white'><tr><th>id</th><th>name</th><th>sal</th><th>mgr_id</th></tr></thead><tbody><tr><td>10</td><td>Anil</td><td>50000</td><td>18</td></tr><tr><td>12</td><td>Nisha</td><td>40000</td><td>18</td></tr><tr><td>11</td><td>Vikas</td><td>75000</td><td>16</td></tr><tr><td>13</td><td>Nidhi</td><td>60000</td><td>17</td></tr><tr><td>15</td><td>Mohit</td><td>45000</td><td>18</td></tr><tr><td>14</td><td>Priya</td><td>80000</td><td>18</td></tr><tr><td>16</td><td>Rajesh</td><td>90000</td><td>10</td></tr><tr><td>17</td><td>Raman</td><td>55000</td><td>16</td></tr><tr><td>18</td><td>Sam</td><td>65000</td><td>17</td></tr><tr><td>14</td><td>Priya</td><td>90000</td><td>18</td></tr></tbody></table></div>"
      ]
     },
     "metadata": {
      "application/vnd.databricks.v1+output": {
       "addedWidgets": {},
       "aggData": [],
       "aggError": "",
       "aggOverflow": false,
       "aggSchema": [],
       "aggSeriesLimitReached": false,
       "aggType": "",
       "arguments": {},
       "columnCustomDisplayInfos": {},
       "data": [
        [
         10,
         "Anil",
         50000,
         18
        ],
        [
         12,
         "Nisha",
         40000,
         18
        ],
        [
         11,
         "Vikas",
         75000,
         16
        ],
        [
         13,
         "Nidhi",
         60000,
         17
        ],
        [
         15,
         "Mohit",
         45000,
         18
        ],
        [
         14,
         "Priya",
         80000,
         18
        ],
        [
         16,
         "Rajesh",
         90000,
         10
        ],
        [
         17,
         "Raman",
         55000,
         16
        ],
        [
         18,
         "Sam",
         65000,
         17
        ],
        [
         14,
         "Priya",
         90000,
         18
        ]
       ],
       "datasetInfos": [],
       "dbfsResultPath": null,
       "isJsonSchema": true,
       "metadata": {},
       "overflow": false,
       "plotOptions": {
        "customPlotOptions": {},
        "displayType": "table",
        "pivotAggregation": null,
        "pivotColumns": null,
        "xColumns": null,
        "yColumns": null
       },
       "removedWidgets": [],
       "schema": [
        {
         "metadata": "{}",
         "name": "id",
         "type": "\"long\""
        },
        {
         "metadata": "{}",
         "name": "name",
         "type": "\"string\""
        },
        {
         "metadata": "{}",
         "name": "sal",
         "type": "\"long\""
        },
        {
         "metadata": "{}",
         "name": "mgr_id",
         "type": "\"long\""
        }
       ],
       "type": "table"
      }
     },
     "output_type": "display_data"
    }
   ],
   "source": [
    "#SELECTING UNIQUE RECORDS\n",
    "display(manager_df.distinct())"
   ]
  },
  {
   "cell_type": "code",
   "execution_count": 0,
   "metadata": {
    "application/vnd.databricks.v1+cell": {
     "cellMetadata": {
      "byteLimit": 2048000,
      "rowLimit": 10000
     },
     "inputWidgets": {},
     "nuid": "c17c0021-5c94-44b2-a61f-f6d4c054ea2c",
     "showTitle": false,
     "tableResultSettingsMap": {},
     "title": ""
    }
   },
   "outputs": [
    {
     "output_type": "display_data",
     "data": {
      "text/html": [
       "<style scoped>\n",
       "  .table-result-container {\n",
       "    max-height: 300px;\n",
       "    overflow: auto;\n",
       "  }\n",
       "  table, th, td {\n",
       "    border: 1px solid black;\n",
       "    border-collapse: collapse;\n",
       "  }\n",
       "  th, td {\n",
       "    padding: 5px;\n",
       "  }\n",
       "  th {\n",
       "    text-align: left;\n",
       "  }\n",
       "</style><div class='table-result-container'><table class='table-result'><thead style='background-color: white'><tr><th>id</th><th>name</th></tr></thead><tbody><tr><td>10</td><td>Anil</td></tr><tr><td>11</td><td>Vikas</td></tr><tr><td>12</td><td>Nisha</td></tr><tr><td>13</td><td>Nidhi</td></tr><tr><td>15</td><td>Mohit</td></tr><tr><td>14</td><td>Priya</td></tr><tr><td>17</td><td>Raman</td></tr><tr><td>16</td><td>Rajesh</td></tr><tr><td>18</td><td>Sam</td></tr></tbody></table></div>"
      ]
     },
     "metadata": {
      "application/vnd.databricks.v1+output": {
       "addedWidgets": {},
       "aggData": [],
       "aggError": "",
       "aggOverflow": false,
       "aggSchema": [],
       "aggSeriesLimitReached": false,
       "aggType": "",
       "arguments": {},
       "columnCustomDisplayInfos": {},
       "data": [
        [
         10,
         "Anil"
        ],
        [
         11,
         "Vikas"
        ],
        [
         12,
         "Nisha"
        ],
        [
         13,
         "Nidhi"
        ],
        [
         15,
         "Mohit"
        ],
        [
         14,
         "Priya"
        ],
        [
         17,
         "Raman"
        ],
        [
         16,
         "Rajesh"
        ],
        [
         18,
         "Sam"
        ]
       ],
       "datasetInfos": [],
       "dbfsResultPath": null,
       "isJsonSchema": true,
       "metadata": {},
       "overflow": false,
       "plotOptions": {
        "customPlotOptions": {},
        "displayType": "table",
        "pivotAggregation": null,
        "pivotColumns": null,
        "xColumns": null,
        "yColumns": null
       },
       "removedWidgets": [],
       "schema": [
        {
         "metadata": "{}",
         "name": "id",
         "type": "\"long\""
        },
        {
         "metadata": "{}",
         "name": "name",
         "type": "\"string\""
        }
       ],
       "type": "table"
      }
     },
     "output_type": "display_data"
    }
   ],
   "source": [
    "#SELECTING SELECTED UNIQUE COLUMNS\n",
    "display(manager_df.select('id','name').distinct())"
   ]
  },
  {
   "cell_type": "code",
   "execution_count": 0,
   "metadata": {
    "application/vnd.databricks.v1+cell": {
     "cellMetadata": {
      "byteLimit": 2048000,
      "rowLimit": 10000
     },
     "inputWidgets": {},
     "nuid": "92db0fe2-3c63-4c28-95ce-5d1643abee48",
     "showTitle": false,
     "tableResultSettingsMap": {},
     "title": ""
    }
   },
   "outputs": [
    {
     "output_type": "display_data",
     "data": {
      "text/html": [
       "<style scoped>\n",
       "  .table-result-container {\n",
       "    max-height: 300px;\n",
       "    overflow: auto;\n",
       "  }\n",
       "  table, th, td {\n",
       "    border: 1px solid black;\n",
       "    border-collapse: collapse;\n",
       "  }\n",
       "  th, td {\n",
       "    padding: 5px;\n",
       "  }\n",
       "  th {\n",
       "    text-align: left;\n",
       "  }\n",
       "</style><div class='table-result-container'><table class='table-result'><thead style='background-color: white'><tr><th>id</th><th>name</th><th>sal</th><th>mgr_id</th></tr></thead><tbody><tr><td>12</td><td>Nisha</td><td>40000</td><td>18</td></tr><tr><td>15</td><td>Mohit</td><td>45000</td><td>18</td></tr><tr><td>15</td><td>Mohit</td><td>45000</td><td>18</td></tr><tr><td>10</td><td>Anil</td><td>50000</td><td>18</td></tr><tr><td>17</td><td>Raman</td><td>55000</td><td>16</td></tr><tr><td>13</td><td>Nidhi</td><td>60000</td><td>17</td></tr><tr><td>13</td><td>Nidhi</td><td>60000</td><td>17</td></tr><tr><td>18</td><td>Sam</td><td>65000</td><td>17</td></tr><tr><td>18</td><td>Sam</td><td>65000</td><td>17</td></tr><tr><td>11</td><td>Vikas</td><td>75000</td><td>16</td></tr><tr><td>14</td><td>Priya</td><td>80000</td><td>18</td></tr><tr><td>14</td><td>Priya</td><td>90000</td><td>18</td></tr><tr><td>16</td><td>Rajesh</td><td>90000</td><td>10</td></tr></tbody></table></div>"
      ]
     },
     "metadata": {
      "application/vnd.databricks.v1+output": {
       "addedWidgets": {},
       "aggData": [],
       "aggError": "",
       "aggOverflow": false,
       "aggSchema": [],
       "aggSeriesLimitReached": false,
       "aggType": "",
       "arguments": {},
       "columnCustomDisplayInfos": {},
       "data": [
        [
         12,
         "Nisha",
         40000,
         18
        ],
        [
         15,
         "Mohit",
         45000,
         18
        ],
        [
         15,
         "Mohit",
         45000,
         18
        ],
        [
         10,
         "Anil",
         50000,
         18
        ],
        [
         17,
         "Raman",
         55000,
         16
        ],
        [
         13,
         "Nidhi",
         60000,
         17
        ],
        [
         13,
         "Nidhi",
         60000,
         17
        ],
        [
         18,
         "Sam",
         65000,
         17
        ],
        [
         18,
         "Sam",
         65000,
         17
        ],
        [
         11,
         "Vikas",
         75000,
         16
        ],
        [
         14,
         "Priya",
         80000,
         18
        ],
        [
         14,
         "Priya",
         90000,
         18
        ],
        [
         16,
         "Rajesh",
         90000,
         10
        ]
       ],
       "datasetInfos": [],
       "dbfsResultPath": null,
       "isJsonSchema": true,
       "metadata": {},
       "overflow": false,
       "plotOptions": {
        "customPlotOptions": {},
        "displayType": "table",
        "pivotAggregation": null,
        "pivotColumns": null,
        "xColumns": null,
        "yColumns": null
       },
       "removedWidgets": [],
       "schema": [
        {
         "metadata": "{}",
         "name": "id",
         "type": "\"long\""
        },
        {
         "metadata": "{}",
         "name": "name",
         "type": "\"string\""
        },
        {
         "metadata": "{}",
         "name": "sal",
         "type": "\"long\""
        },
        {
         "metadata": "{}",
         "name": "mgr_id",
         "type": "\"long\""
        }
       ],
       "type": "table"
      }
     },
     "output_type": "display_data"
    },
    {
     "output_type": "display_data",
     "data": {
      "text/html": [
       "<style scoped>\n",
       "  .table-result-container {\n",
       "    max-height: 300px;\n",
       "    overflow: auto;\n",
       "  }\n",
       "  table, th, td {\n",
       "    border: 1px solid black;\n",
       "    border-collapse: collapse;\n",
       "  }\n",
       "  th, td {\n",
       "    padding: 5px;\n",
       "  }\n",
       "  th {\n",
       "    text-align: left;\n",
       "  }\n",
       "</style><div class='table-result-container'><table class='table-result'><thead style='background-color: white'><tr><th>id</th><th>name</th><th>sal</th><th>mgr_id</th></tr></thead><tbody><tr><td>16</td><td>Rajesh</td><td>90000</td><td>10</td></tr><tr><td>14</td><td>Priya</td><td>90000</td><td>18</td></tr><tr><td>14</td><td>Priya</td><td>80000</td><td>18</td></tr><tr><td>11</td><td>Vikas</td><td>75000</td><td>16</td></tr><tr><td>18</td><td>Sam</td><td>65000</td><td>17</td></tr><tr><td>18</td><td>Sam</td><td>65000</td><td>17</td></tr><tr><td>13</td><td>Nidhi</td><td>60000</td><td>17</td></tr><tr><td>13</td><td>Nidhi</td><td>60000</td><td>17</td></tr><tr><td>17</td><td>Raman</td><td>55000</td><td>16</td></tr><tr><td>10</td><td>Anil</td><td>50000</td><td>18</td></tr><tr><td>15</td><td>Mohit</td><td>45000</td><td>18</td></tr><tr><td>15</td><td>Mohit</td><td>45000</td><td>18</td></tr><tr><td>12</td><td>Nisha</td><td>40000</td><td>18</td></tr></tbody></table></div>"
      ]
     },
     "metadata": {
      "application/vnd.databricks.v1+output": {
       "addedWidgets": {},
       "aggData": [],
       "aggError": "",
       "aggOverflow": false,
       "aggSchema": [],
       "aggSeriesLimitReached": false,
       "aggType": "",
       "arguments": {},
       "columnCustomDisplayInfos": {},
       "data": [
        [
         16,
         "Rajesh",
         90000,
         10
        ],
        [
         14,
         "Priya",
         90000,
         18
        ],
        [
         14,
         "Priya",
         80000,
         18
        ],
        [
         11,
         "Vikas",
         75000,
         16
        ],
        [
         18,
         "Sam",
         65000,
         17
        ],
        [
         18,
         "Sam",
         65000,
         17
        ],
        [
         13,
         "Nidhi",
         60000,
         17
        ],
        [
         13,
         "Nidhi",
         60000,
         17
        ],
        [
         17,
         "Raman",
         55000,
         16
        ],
        [
         10,
         "Anil",
         50000,
         18
        ],
        [
         15,
         "Mohit",
         45000,
         18
        ],
        [
         15,
         "Mohit",
         45000,
         18
        ],
        [
         12,
         "Nisha",
         40000,
         18
        ]
       ],
       "datasetInfos": [],
       "dbfsResultPath": null,
       "isJsonSchema": true,
       "metadata": {},
       "overflow": false,
       "plotOptions": {
        "customPlotOptions": {},
        "displayType": "table",
        "pivotAggregation": null,
        "pivotColumns": null,
        "xColumns": null,
        "yColumns": null
       },
       "removedWidgets": [],
       "schema": [
        {
         "metadata": "{}",
         "name": "id",
         "type": "\"long\""
        },
        {
         "metadata": "{}",
         "name": "name",
         "type": "\"string\""
        },
        {
         "metadata": "{}",
         "name": "sal",
         "type": "\"long\""
        },
        {
         "metadata": "{}",
         "name": "mgr_id",
         "type": "\"long\""
        }
       ],
       "type": "table"
      }
     },
     "output_type": "display_data"
    }
   ],
   "source": [
    "#SORTING DATAFRAME\n",
    "display(manager_df.sort(col('sal')))\n",
    "\n",
    "#MULTIPLE COLUMN SORTING\n",
    "display(manager_df.sort(col('sal').desc(), col('name').desc()))"
   ]
  },
  {
   "cell_type": "markdown",
   "metadata": {
    "application/vnd.databricks.v1+cell": {
     "cellMetadata": {},
     "inputWidgets": {},
     "nuid": "2e163fa9-d025-47db-805b-300f760b4887",
     "showTitle": false,
     "tableResultSettingsMap": {},
     "title": ""
    }
   },
   "source": [
    "LEETCODE QUESTION"
   ]
  },
  {
   "cell_type": "code",
   "execution_count": 0,
   "metadata": {
    "application/vnd.databricks.v1+cell": {
     "cellMetadata": {
      "byteLimit": 2048000,
      "rowLimit": 10000
     },
     "inputWidgets": {},
     "nuid": "523f5a81-ed52-4e98-9d4f-11c60cdf1e1f",
     "showTitle": false,
     "tableResultSettingsMap": {},
     "title": ""
    }
   },
   "outputs": [
    {
     "output_type": "display_data",
     "data": {
      "text/html": [
       "<style scoped>\n",
       "  .table-result-container {\n",
       "    max-height: 300px;\n",
       "    overflow: auto;\n",
       "  }\n",
       "  table, th, td {\n",
       "    border: 1px solid black;\n",
       "    border-collapse: collapse;\n",
       "  }\n",
       "  th, td {\n",
       "    padding: 5px;\n",
       "  }\n",
       "  th {\n",
       "    text-align: left;\n",
       "  }\n",
       "</style><div class='table-result-container'><table class='table-result'><thead style='background-color: white'><tr><th>id</th><th>name</th><th>ref_id</th></tr></thead><tbody><tr><td>1</td><td>Will</td><td>null</td></tr><tr><td>2</td><td>Jane</td><td>null</td></tr><tr><td>3</td><td>Alex</td><td>2</td></tr><tr><td>4</td><td>Bill</td><td>null</td></tr><tr><td>5</td><td>Zack</td><td>1</td></tr><tr><td>6</td><td>Mark</td><td>2</td></tr></tbody></table></div>"
      ]
     },
     "metadata": {
      "application/vnd.databricks.v1+output": {
       "addedWidgets": {},
       "aggData": [],
       "aggError": "",
       "aggOverflow": false,
       "aggSchema": [],
       "aggSeriesLimitReached": false,
       "aggType": "",
       "arguments": {},
       "columnCustomDisplayInfos": {},
       "data": [
        [
         1,
         "Will",
         null
        ],
        [
         2,
         "Jane",
         null
        ],
        [
         3,
         "Alex",
         2
        ],
        [
         4,
         "Bill",
         null
        ],
        [
         5,
         "Zack",
         1
        ],
        [
         6,
         "Mark",
         2
        ]
       ],
       "datasetInfos": [],
       "dbfsResultPath": null,
       "isJsonSchema": true,
       "metadata": {},
       "overflow": false,
       "plotOptions": {
        "customPlotOptions": {},
        "displayType": "table",
        "pivotAggregation": null,
        "pivotColumns": null,
        "xColumns": null,
        "yColumns": null
       },
       "removedWidgets": [],
       "schema": [
        {
         "metadata": "{}",
         "name": "id",
         "type": "\"long\""
        },
        {
         "metadata": "{}",
         "name": "name",
         "type": "\"string\""
        },
        {
         "metadata": "{}",
         "name": "ref_id",
         "type": "\"long\""
        }
       ],
       "type": "table"
      }
     },
     "output_type": "display_data"
    }
   ],
   "source": [
    "leet_code_data = [\n",
    "    (1, 'Will', None),\n",
    "    (2, 'Jane', None),\n",
    "    (3, 'Alex', 2),\n",
    "    (4, 'Bill', None),\n",
    "    (5, 'Zack', 1),\n",
    "    (6, 'Mark', 2)]\n",
    "\n",
    "question_df = spark.createDataFrame(data = leet_code_data, schema=['id', 'name', 'ref_id'])\n",
    "display(question_df)"
   ]
  },
  {
   "cell_type": "code",
   "execution_count": 0,
   "metadata": {
    "application/vnd.databricks.v1+cell": {
     "cellMetadata": {
      "byteLimit": 2048000,
      "rowLimit": 10000
     },
     "inputWidgets": {},
     "nuid": "51fc5f74-855e-4b56-9107-1153adadec96",
     "showTitle": false,
     "tableResultSettingsMap": {},
     "title": ""
    }
   },
   "outputs": [
    {
     "output_type": "display_data",
     "data": {
      "text/html": [
       "<style scoped>\n",
       "  .table-result-container {\n",
       "    max-height: 300px;\n",
       "    overflow: auto;\n",
       "  }\n",
       "  table, th, td {\n",
       "    border: 1px solid black;\n",
       "    border-collapse: collapse;\n",
       "  }\n",
       "  th, td {\n",
       "    padding: 5px;\n",
       "  }\n",
       "  th {\n",
       "    text-align: left;\n",
       "  }\n",
       "</style><div class='table-result-container'><table class='table-result'><thead style='background-color: white'><tr><th>name</th></tr></thead><tbody><tr><td>Will</td></tr><tr><td>Jane</td></tr><tr><td>Bill</td></tr><tr><td>Zack</td></tr></tbody></table></div>"
      ]
     },
     "metadata": {
      "application/vnd.databricks.v1+output": {
       "addedWidgets": {},
       "aggData": [],
       "aggError": "",
       "aggOverflow": false,
       "aggSchema": [],
       "aggSeriesLimitReached": false,
       "aggType": "",
       "arguments": {},
       "columnCustomDisplayInfos": {},
       "data": [
        [
         "Will"
        ],
        [
         "Jane"
        ],
        [
         "Bill"
        ],
        [
         "Zack"
        ]
       ],
       "datasetInfos": [],
       "dbfsResultPath": null,
       "isJsonSchema": true,
       "metadata": {},
       "overflow": false,
       "plotOptions": {
        "customPlotOptions": {},
        "displayType": "table",
        "pivotAggregation": null,
        "pivotColumns": null,
        "xColumns": null,
        "yColumns": null
       },
       "removedWidgets": [],
       "schema": [
        {
         "metadata": "{}",
         "name": "name",
         "type": "\"string\""
        }
       ],
       "type": "table"
      }
     },
     "output_type": "display_data"
    }
   ],
   "source": [
    "#QUESTION IS TO FIND NAME WHERE REF_ID != 2\n",
    "display(question_df.select('name').filter((col('ref_id') != 2) | (col('ref_id').isNull())))"
   ]
  }
 ],
 "metadata": {
  "application/vnd.databricks.v1+notebook": {
   "computePreferences": null,
   "dashboards": [],
   "environmentMetadata": {
    "base_environment": "",
    "environment_version": "1"
   },
   "inputWidgetPreferences": null,
   "language": "python",
   "notebookMetadata": {
    "pythonIndentUnit": 4
   },
   "notebookName": "UNIQUE ROW AND SORTED ROW",
   "widgets": {}
  }
 },
 "nbformat": 4,
 "nbformat_minor": 0
}