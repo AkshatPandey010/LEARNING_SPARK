{
 "cells": [
  {
   "cell_type": "code",
   "execution_count": 0,
   "metadata": {
    "application/vnd.databricks.v1+cell": {
     "cellMetadata": {
      "byteLimit": 2048000,
      "rowLimit": 10000
     },
     "inputWidgets": {},
     "nuid": "2f9695f9-9e2b-405f-a13e-7465186ad233",
     "showTitle": false,
     "tableResultSettingsMap": {},
     "title": ""
    }
   },
   "outputs": [],
   "source": [
    "from pyspark.sql.functions import *\n",
    "from pyspark.sql.types import *"
   ]
  },
  {
   "cell_type": "code",
   "execution_count": 0,
   "metadata": {
    "application/vnd.databricks.v1+cell": {
     "cellMetadata": {
      "byteLimit": 2048000,
      "rowLimit": 10000
     },
     "inputWidgets": {},
     "nuid": "2ac76254-f89c-47e9-b3b3-1ce4089c2a93",
     "showTitle": false,
     "tableResultSettingsMap": {},
     "title": ""
    }
   },
   "outputs": [],
   "source": [
    "emp_data = [\n",
    "(1,'manish',26,20000,'india','IT'),\n",
    "(2,'rahul',None,40000,'germany','engineering'),\n",
    "(3,'pawan',12,60000,'india','sales'),\n",
    "(4,'roshini',44,None,'uk','engineering'),\n",
    "(5,'raushan',35,70000,'india','sales'),\n",
    "(6,None,29,200000,'uk','IT'),\n",
    "(7,'adam',37,65000,'us','IT'),\n",
    "(8,'chris',16,40000,'us','sales'),\n",
    "(None,None,None,None,None,None),\n",
    "(7,'adam',37,65000,'us','IT')\n",
    "]\n",
    "emp_schema = ['id','name','age','salary','country','dept']\n",
    "emp_df = spark.createDataFrame(data = emp_data, schema = emp_schema)"
   ]
  },
  {
   "cell_type": "code",
   "execution_count": 0,
   "metadata": {
    "application/vnd.databricks.v1+cell": {
     "cellMetadata": {
      "byteLimit": 2048000,
      "rowLimit": 10000
     },
     "inputWidgets": {},
     "nuid": "0fcda09c-b07c-43aa-a288-b4df6cbfb3f9",
     "showTitle": false,
     "tableResultSettingsMap": {},
     "title": ""
    }
   },
   "outputs": [
    {
     "output_type": "display_data",
     "data": {
      "text/html": [
       "<style scoped>\n",
       "  .table-result-container {\n",
       "    max-height: 300px;\n",
       "    overflow: auto;\n",
       "  }\n",
       "  table, th, td {\n",
       "    border: 1px solid black;\n",
       "    border-collapse: collapse;\n",
       "  }\n",
       "  th, td {\n",
       "    padding: 5px;\n",
       "  }\n",
       "  th {\n",
       "    text-align: left;\n",
       "  }\n",
       "</style><div class='table-result-container'><table class='table-result'><thead style='background-color: white'><tr><th>id</th><th>name</th><th>age</th><th>salary</th><th>country</th><th>dept</th><th>is_adult</th></tr></thead><tbody><tr><td>1</td><td>manish</td><td>26</td><td>20000</td><td>india</td><td>IT</td><td>Yes</td></tr><tr><td>2</td><td>rahul</td><td>null</td><td>40000</td><td>germany</td><td>engineering</td><td>NoValue</td></tr><tr><td>3</td><td>pawan</td><td>12</td><td>60000</td><td>india</td><td>sales</td><td>No</td></tr><tr><td>4</td><td>roshini</td><td>44</td><td>null</td><td>uk</td><td>engineering</td><td>Yes</td></tr><tr><td>5</td><td>raushan</td><td>35</td><td>70000</td><td>india</td><td>sales</td><td>Yes</td></tr><tr><td>6</td><td>null</td><td>29</td><td>200000</td><td>uk</td><td>IT</td><td>Yes</td></tr><tr><td>7</td><td>adam</td><td>37</td><td>65000</td><td>us</td><td>IT</td><td>Yes</td></tr><tr><td>8</td><td>chris</td><td>16</td><td>40000</td><td>us</td><td>sales</td><td>No</td></tr><tr><td>null</td><td>null</td><td>null</td><td>null</td><td>null</td><td>null</td><td>NoValue</td></tr><tr><td>7</td><td>adam</td><td>37</td><td>65000</td><td>us</td><td>IT</td><td>Yes</td></tr></tbody></table></div>"
      ]
     },
     "metadata": {
      "application/vnd.databricks.v1+output": {
       "addedWidgets": {},
       "aggData": [],
       "aggError": "",
       "aggOverflow": false,
       "aggSchema": [],
       "aggSeriesLimitReached": false,
       "aggType": "",
       "arguments": {},
       "columnCustomDisplayInfos": {},
       "data": [
        [
         1,
         "manish",
         26,
         20000,
         "india",
         "IT",
         "Yes"
        ],
        [
         2,
         "rahul",
         null,
         40000,
         "germany",
         "engineering",
         "NoValue"
        ],
        [
         3,
         "pawan",
         12,
         60000,
         "india",
         "sales",
         "No"
        ],
        [
         4,
         "roshini",
         44,
         null,
         "uk",
         "engineering",
         "Yes"
        ],
        [
         5,
         "raushan",
         35,
         70000,
         "india",
         "sales",
         "Yes"
        ],
        [
         6,
         null,
         29,
         200000,
         "uk",
         "IT",
         "Yes"
        ],
        [
         7,
         "adam",
         37,
         65000,
         "us",
         "IT",
         "Yes"
        ],
        [
         8,
         "chris",
         16,
         40000,
         "us",
         "sales",
         "No"
        ],
        [
         null,
         null,
         null,
         null,
         null,
         null,
         "NoValue"
        ],
        [
         7,
         "adam",
         37,
         65000,
         "us",
         "IT",
         "Yes"
        ]
       ],
       "datasetInfos": [],
       "dbfsResultPath": null,
       "isJsonSchema": true,
       "metadata": {},
       "overflow": false,
       "plotOptions": {
        "customPlotOptions": {},
        "displayType": "table",
        "pivotAggregation": null,
        "pivotColumns": null,
        "xColumns": null,
        "yColumns": null
       },
       "removedWidgets": [],
       "schema": [
        {
         "metadata": "{}",
         "name": "id",
         "type": "\"long\""
        },
        {
         "metadata": "{}",
         "name": "name",
         "type": "\"string\""
        },
        {
         "metadata": "{}",
         "name": "age",
         "type": "\"long\""
        },
        {
         "metadata": "{}",
         "name": "salary",
         "type": "\"long\""
        },
        {
         "metadata": "{}",
         "name": "country",
         "type": "\"string\""
        },
        {
         "metadata": "{}",
         "name": "dept",
         "type": "\"string\""
        },
        {
         "metadata": "{}",
         "name": "is_adult",
         "type": "\"string\""
        }
       ],
       "type": "table"
      }
     },
     "output_type": "display_data"
    }
   ],
   "source": [
    "# CONDITION IS TO CHECK ADULTS IN THIS DATA \n",
    "# HERE WE CAN USE when(condition1, 'outputvalue1').when(condition2, 'outputvalue2').otherwise('outputvalue3')\n",
    "display(emp_df.withColumn(\"is_adult\", when(col('age')<18, 'No').when(col(\"age\")>18, \"Yes\").otherwise(\"NoValue\")))"
   ]
  },
  {
   "cell_type": "code",
   "execution_count": 0,
   "metadata": {
    "application/vnd.databricks.v1+cell": {
     "cellMetadata": {
      "byteLimit": 2048000,
      "rowLimit": 10000
     },
     "inputWidgets": {},
     "nuid": "2eeb4ea6-8251-416a-969f-9ccc00413f5d",
     "showTitle": false,
     "tableResultSettingsMap": {},
     "title": ""
    }
   },
   "outputs": [
    {
     "output_type": "display_data",
     "data": {
      "text/html": [
       "<style scoped>\n",
       "  .table-result-container {\n",
       "    max-height: 300px;\n",
       "    overflow: auto;\n",
       "  }\n",
       "  table, th, td {\n",
       "    border: 1px solid black;\n",
       "    border-collapse: collapse;\n",
       "  }\n",
       "  th, td {\n",
       "    padding: 5px;\n",
       "  }\n",
       "  th {\n",
       "    text-align: left;\n",
       "  }\n",
       "</style><div class='table-result-container'><table class='table-result'><thead style='background-color: white'><tr><th>id</th><th>name</th><th>age</th><th>salary</th><th>country</th><th>dept</th><th>is_adult</th></tr></thead><tbody><tr><td>1</td><td>manish</td><td>26</td><td>20000</td><td>india</td><td>IT</td><td>Yes</td></tr><tr><td>2</td><td>rahul</td><td>19</td><td>40000</td><td>germany</td><td>engineering</td><td>Yes</td></tr><tr><td>3</td><td>pawan</td><td>12</td><td>60000</td><td>india</td><td>sales</td><td>No</td></tr><tr><td>4</td><td>roshini</td><td>44</td><td>null</td><td>uk</td><td>engineering</td><td>Yes</td></tr><tr><td>5</td><td>raushan</td><td>35</td><td>70000</td><td>india</td><td>sales</td><td>Yes</td></tr><tr><td>6</td><td>null</td><td>29</td><td>200000</td><td>uk</td><td>IT</td><td>Yes</td></tr><tr><td>7</td><td>adam</td><td>37</td><td>65000</td><td>us</td><td>IT</td><td>Yes</td></tr><tr><td>8</td><td>chris</td><td>16</td><td>40000</td><td>us</td><td>sales</td><td>No</td></tr><tr><td>null</td><td>null</td><td>19</td><td>null</td><td>null</td><td>null</td><td>Yes</td></tr><tr><td>7</td><td>adam</td><td>37</td><td>65000</td><td>us</td><td>IT</td><td>Yes</td></tr></tbody></table></div>"
      ]
     },
     "metadata": {
      "application/vnd.databricks.v1+output": {
       "addedWidgets": {},
       "aggData": [],
       "aggError": "",
       "aggOverflow": false,
       "aggSchema": [],
       "aggSeriesLimitReached": false,
       "aggType": "",
       "arguments": {},
       "columnCustomDisplayInfos": {},
       "data": [
        [
         1,
         "manish",
         26,
         20000,
         "india",
         "IT",
         "Yes"
        ],
        [
         2,
         "rahul",
         19,
         40000,
         "germany",
         "engineering",
         "Yes"
        ],
        [
         3,
         "pawan",
         12,
         60000,
         "india",
         "sales",
         "No"
        ],
        [
         4,
         "roshini",
         44,
         null,
         "uk",
         "engineering",
         "Yes"
        ],
        [
         5,
         "raushan",
         35,
         70000,
         "india",
         "sales",
         "Yes"
        ],
        [
         6,
         null,
         29,
         200000,
         "uk",
         "IT",
         "Yes"
        ],
        [
         7,
         "adam",
         37,
         65000,
         "us",
         "IT",
         "Yes"
        ],
        [
         8,
         "chris",
         16,
         40000,
         "us",
         "sales",
         "No"
        ],
        [
         null,
         null,
         19,
         null,
         null,
         null,
         "Yes"
        ],
        [
         7,
         "adam",
         37,
         65000,
         "us",
         "IT",
         "Yes"
        ]
       ],
       "datasetInfos": [],
       "dbfsResultPath": null,
       "isJsonSchema": true,
       "metadata": {},
       "overflow": false,
       "plotOptions": {
        "customPlotOptions": {},
        "displayType": "table",
        "pivotAggregation": null,
        "pivotColumns": null,
        "xColumns": null,
        "yColumns": null
       },
       "removedWidgets": [],
       "schema": [
        {
         "metadata": "{}",
         "name": "id",
         "type": "\"long\""
        },
        {
         "metadata": "{}",
         "name": "name",
         "type": "\"string\""
        },
        {
         "metadata": "{}",
         "name": "age",
         "type": "\"long\""
        },
        {
         "metadata": "{}",
         "name": "salary",
         "type": "\"long\""
        },
        {
         "metadata": "{}",
         "name": "country",
         "type": "\"string\""
        },
        {
         "metadata": "{}",
         "name": "dept",
         "type": "\"string\""
        },
        {
         "metadata": "{}",
         "name": "is_adult",
         "type": "\"string\""
        }
       ],
       "type": "table"
      }
     },
     "output_type": "display_data"
    }
   ],
   "source": [
    "#NOW THE SCENARIO IS THAT WE HAVE TO FIRST HANDLE THE NULL AGES AND THEN CREATE IS_ADULT COLUMN\n",
    "display(emp_df.withColumn(\"age\", when(col('age').isNull(), lit(19)).otherwise(col('age')))\\\n",
    "               .withColumn(\"is_adult\", when(col('age')>18, 'Yes').otherwise('No')))"
   ]
  },
  {
   "cell_type": "code",
   "execution_count": 0,
   "metadata": {
    "application/vnd.databricks.v1+cell": {
     "cellMetadata": {
      "byteLimit": 2048000,
      "rowLimit": 10000
     },
     "inputWidgets": {},
     "nuid": "87d2c854-8454-4073-b7c0-ed8fa065eda3",
     "showTitle": false,
     "tableResultSettingsMap": {},
     "title": ""
    }
   },
   "outputs": [
    {
     "output_type": "display_data",
     "data": {
      "text/html": [
       "<style scoped>\n",
       "  .table-result-container {\n",
       "    max-height: 300px;\n",
       "    overflow: auto;\n",
       "  }\n",
       "  table, th, td {\n",
       "    border: 1px solid black;\n",
       "    border-collapse: collapse;\n",
       "  }\n",
       "  th, td {\n",
       "    padding: 5px;\n",
       "  }\n",
       "  th {\n",
       "    text-align: left;\n",
       "  }\n",
       "</style><div class='table-result-container'><table class='table-result'><thead style='background-color: white'><tr><th>id</th><th>name</th><th>age</th><th>salary</th><th>country</th><th>dept</th><th>age_group</th></tr></thead><tbody><tr><td>1</td><td>manish</td><td>26</td><td>20000</td><td>india</td><td>IT</td><td>Mid</td></tr><tr><td>2</td><td>rahul</td><td>19</td><td>40000</td><td>germany</td><td>engineering</td><td>Mid</td></tr><tr><td>3</td><td>pawan</td><td>12</td><td>60000</td><td>india</td><td>sales</td><td>Minor</td></tr><tr><td>4</td><td>roshini</td><td>44</td><td>null</td><td>uk</td><td>engineering</td><td>Buddhha</td></tr><tr><td>5</td><td>raushan</td><td>35</td><td>70000</td><td>india</td><td>sales</td><td>Buddhha</td></tr><tr><td>6</td><td>null</td><td>29</td><td>200000</td><td>uk</td><td>IT</td><td>Mid</td></tr><tr><td>7</td><td>adam</td><td>37</td><td>65000</td><td>us</td><td>IT</td><td>Buddhha</td></tr><tr><td>8</td><td>chris</td><td>16</td><td>40000</td><td>us</td><td>sales</td><td>Minor</td></tr><tr><td>null</td><td>null</td><td>19</td><td>null</td><td>null</td><td>null</td><td>Mid</td></tr><tr><td>7</td><td>adam</td><td>37</td><td>65000</td><td>us</td><td>IT</td><td>Buddhha</td></tr></tbody></table></div>"
      ]
     },
     "metadata": {
      "application/vnd.databricks.v1+output": {
       "addedWidgets": {},
       "aggData": [],
       "aggError": "",
       "aggOverflow": false,
       "aggSchema": [],
       "aggSeriesLimitReached": false,
       "aggType": "",
       "arguments": {},
       "columnCustomDisplayInfos": {},
       "data": [
        [
         1,
         "manish",
         26,
         20000,
         "india",
         "IT",
         "Mid"
        ],
        [
         2,
         "rahul",
         19,
         40000,
         "germany",
         "engineering",
         "Mid"
        ],
        [
         3,
         "pawan",
         12,
         60000,
         "india",
         "sales",
         "Minor"
        ],
        [
         4,
         "roshini",
         44,
         null,
         "uk",
         "engineering",
         "Buddhha"
        ],
        [
         5,
         "raushan",
         35,
         70000,
         "india",
         "sales",
         "Buddhha"
        ],
        [
         6,
         null,
         29,
         200000,
         "uk",
         "IT",
         "Mid"
        ],
        [
         7,
         "adam",
         37,
         65000,
         "us",
         "IT",
         "Buddhha"
        ],
        [
         8,
         "chris",
         16,
         40000,
         "us",
         "sales",
         "Minor"
        ],
        [
         null,
         null,
         19,
         null,
         null,
         null,
         "Mid"
        ],
        [
         7,
         "adam",
         37,
         65000,
         "us",
         "IT",
         "Buddhha"
        ]
       ],
       "datasetInfos": [],
       "dbfsResultPath": null,
       "isJsonSchema": true,
       "metadata": {},
       "overflow": false,
       "plotOptions": {
        "customPlotOptions": {},
        "displayType": "table",
        "pivotAggregation": null,
        "pivotColumns": null,
        "xColumns": null,
        "yColumns": null
       },
       "removedWidgets": [],
       "schema": [
        {
         "metadata": "{}",
         "name": "id",
         "type": "\"long\""
        },
        {
         "metadata": "{}",
         "name": "name",
         "type": "\"string\""
        },
        {
         "metadata": "{}",
         "name": "age",
         "type": "\"long\""
        },
        {
         "metadata": "{}",
         "name": "salary",
         "type": "\"long\""
        },
        {
         "metadata": "{}",
         "name": "country",
         "type": "\"string\""
        },
        {
         "metadata": "{}",
         "name": "dept",
         "type": "\"string\""
        },
        {
         "metadata": "{}",
         "name": "age_group",
         "type": "\"string\""
        }
       ],
       "type": "table"
      }
     },
     "output_type": "display_data"
    }
   ],
   "source": [
    "#NOW SCENARIO IS TO CREATE A COLUMN FOR AGE GROUP OF PEOPLE \n",
    "\n",
    "display(emp_df.withColumn(\"age\", when(col('age').isNull(), lit(19)).otherwise(col('age')))\\\n",
    "      .withColumn(\"age_group\", when((col('age')>0) & (col('age')<18), \"Minor\").when((col('age')>= 18) & (col('age')<30), \"Mid\").otherwise(\"Buddhha\")))"
   ]
  }
 ],
 "metadata": {
  "application/vnd.databricks.v1+notebook": {
   "computePreferences": null,
   "dashboards": [],
   "environmentMetadata": {
    "base_environment": "",
    "environment_version": "1"
   },
   "inputWidgetPreferences": null,
   "language": "python",
   "notebookMetadata": {
    "pythonIndentUnit": 4
   },
   "notebookName": "WHEN OTHERWISE (if else)",
   "widgets": {}
  }
 },
 "nbformat": 4,
 "nbformat_minor": 0
}