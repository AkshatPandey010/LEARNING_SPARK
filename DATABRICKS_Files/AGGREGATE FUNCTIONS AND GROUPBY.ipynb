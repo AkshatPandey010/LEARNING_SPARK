{
 "cells": [
  {
   "cell_type": "code",
   "execution_count": 0,
   "metadata": {
    "application/vnd.databricks.v1+cell": {
     "cellMetadata": {
      "byteLimit": 2048000,
      "rowLimit": 10000
     },
     "inputWidgets": {},
     "nuid": "e3e97d5f-7397-47f5-a90e-743f6f8902c4",
     "showTitle": false,
     "tableResultSettingsMap": {},
     "title": ""
    }
   },
   "outputs": [],
   "source": [
    "from pyspark.sql.functions import *\n",
    "from pyspark.sql.types import *"
   ]
  },
  {
   "cell_type": "code",
   "execution_count": 0,
   "metadata": {
    "application/vnd.databricks.v1+cell": {
     "cellMetadata": {
      "byteLimit": 2048000,
      "rowLimit": 10000
     },
     "inputWidgets": {},
     "nuid": "89e40a4f-647d-4c2c-83a3-c1bcbcf29d69",
     "showTitle": false,
     "tableResultSettingsMap": {},
     "title": ""
    }
   },
   "outputs": [
    {
     "output_type": "display_data",
     "data": {
      "text/html": [
       "<style scoped>\n",
       "  .table-result-container {\n",
       "    max-height: 300px;\n",
       "    overflow: auto;\n",
       "  }\n",
       "  table, th, td {\n",
       "    border: 1px solid black;\n",
       "    border-collapse: collapse;\n",
       "  }\n",
       "  th, td {\n",
       "    padding: 5px;\n",
       "  }\n",
       "  th {\n",
       "    text-align: left;\n",
       "  }\n",
       "</style><div class='table-result-container'><table class='table-result'><thead style='background-color: white'><tr><th>id</th><th>name</th><th>salary</th><th>department</th></tr></thead><tbody><tr><td>1</td><td>manish</td><td>50000</td><td>IT</td></tr><tr><td>2</td><td>vikash</td><td>60000</td><td>sales</td></tr><tr><td>3</td><td>raushan</td><td>70000</td><td>marketing</td></tr><tr><td>4</td><td>mukesh</td><td>80000</td><td>IT</td></tr><tr><td>5</td><td>pritam</td><td>90000</td><td>sales</td></tr><tr><td>6</td><td>nikita</td><td>45000</td><td>marketing</td></tr><tr><td>7</td><td>ragini</td><td>55000</td><td>marketing</td></tr><tr><td>8</td><td>rakesh</td><td>100000</td><td>IT</td></tr><tr><td>9</td><td>aditya</td><td>65000</td><td>IT</td></tr><tr><td>10</td><td>rahul</td><td>50000</td><td>marketing</td></tr></tbody></table></div>"
      ]
     },
     "metadata": {
      "application/vnd.databricks.v1+output": {
       "addedWidgets": {},
       "aggData": [],
       "aggError": "",
       "aggOverflow": false,
       "aggSchema": [],
       "aggSeriesLimitReached": false,
       "aggType": "",
       "arguments": {},
       "columnCustomDisplayInfos": {},
       "data": [
        [
         1,
         "manish",
         50000,
         "IT"
        ],
        [
         2,
         "vikash",
         60000,
         "sales"
        ],
        [
         3,
         "raushan",
         70000,
         "marketing"
        ],
        [
         4,
         "mukesh",
         80000,
         "IT"
        ],
        [
         5,
         "pritam",
         90000,
         "sales"
        ],
        [
         6,
         "nikita",
         45000,
         "marketing"
        ],
        [
         7,
         "ragini",
         55000,
         "marketing"
        ],
        [
         8,
         "rakesh",
         100000,
         "IT"
        ],
        [
         9,
         "aditya",
         65000,
         "IT"
        ],
        [
         10,
         "rahul",
         50000,
         "marketing"
        ]
       ],
       "datasetInfos": [],
       "dbfsResultPath": null,
       "isJsonSchema": true,
       "metadata": {},
       "overflow": false,
       "plotOptions": {
        "customPlotOptions": {},
        "displayType": "table",
        "pivotAggregation": null,
        "pivotColumns": null,
        "xColumns": null,
        "yColumns": null
       },
       "removedWidgets": [],
       "schema": [
        {
         "metadata": "{}",
         "name": "id",
         "type": "\"long\""
        },
        {
         "metadata": "{}",
         "name": "name",
         "type": "\"string\""
        },
        {
         "metadata": "{}",
         "name": "salary",
         "type": "\"long\""
        },
        {
         "metadata": "{}",
         "name": "department",
         "type": "\"string\""
        }
       ],
       "type": "table"
      }
     },
     "output_type": "display_data"
    }
   ],
   "source": [
    "employee_data = [(1,'manish',50000,'IT'),\n",
    "(2,'vikash',60000,'sales'),\n",
    "(3,'raushan',70000,'marketing'),\n",
    "(4,'mukesh',80000,'IT'),\n",
    "(5,'pritam',90000,'sales'),\n",
    "(6,'nikita',45000,'marketing'),\n",
    "(7,'ragini',55000,'marketing'),\n",
    "(8,'rakesh',100000,'IT'),\n",
    "(9,'aditya',65000,'IT'),\n",
    "(10,'rahul',50000,'marketing')]\n",
    "\n",
    "emp_df = spark.createDataFrame(data = employee_data, schema=['id','name','salary', 'department'])\n",
    "display(emp_df)"
   ]
  },
  {
   "cell_type": "code",
   "execution_count": 0,
   "metadata": {
    "application/vnd.databricks.v1+cell": {
     "cellMetadata": {
      "byteLimit": 2048000,
      "rowLimit": 10000
     },
     "inputWidgets": {},
     "nuid": "9e87e079-90e6-4596-9fe6-fc9eb0ed68fa",
     "showTitle": false,
     "tableResultSettingsMap": {},
     "title": ""
    }
   },
   "outputs": [
    {
     "output_type": "display_data",
     "data": {
      "text/html": [
       "<style scoped>\n",
       "  .table-result-container {\n",
       "    max-height: 300px;\n",
       "    overflow: auto;\n",
       "  }\n",
       "  table, th, td {\n",
       "    border: 1px solid black;\n",
       "    border-collapse: collapse;\n",
       "  }\n",
       "  th, td {\n",
       "    padding: 5px;\n",
       "  }\n",
       "  th {\n",
       "    text-align: left;\n",
       "  }\n",
       "</style><div class='table-result-container'><table class='table-result'><thead style='background-color: white'><tr><th>number_of_employee</th></tr></thead><tbody><tr><td>10</td></tr></tbody></table></div>"
      ]
     },
     "metadata": {
      "application/vnd.databricks.v1+output": {
       "addedWidgets": {},
       "aggData": [],
       "aggError": "",
       "aggOverflow": false,
       "aggSchema": [],
       "aggSeriesLimitReached": false,
       "aggType": "",
       "arguments": {},
       "columnCustomDisplayInfos": {},
       "data": [
        [
         10
        ]
       ],
       "datasetInfos": [],
       "dbfsResultPath": null,
       "isJsonSchema": true,
       "metadata": {},
       "overflow": false,
       "plotOptions": {
        "customPlotOptions": {},
        "displayType": "table",
        "pivotAggregation": null,
        "pivotColumns": null,
        "xColumns": null,
        "yColumns": null
       },
       "removedWidgets": [],
       "schema": [
        {
         "metadata": "{}",
         "name": "number_of_employee",
         "type": "\"long\""
        }
       ],
       "type": "table"
      }
     },
     "output_type": "display_data"
    },
    {
     "output_type": "display_data",
     "data": {
      "text/html": [
       "<style scoped>\n",
       "  .table-result-container {\n",
       "    max-height: 300px;\n",
       "    overflow: auto;\n",
       "  }\n",
       "  table, th, td {\n",
       "    border: 1px solid black;\n",
       "    border-collapse: collapse;\n",
       "  }\n",
       "  th, td {\n",
       "    padding: 5px;\n",
       "  }\n",
       "  th {\n",
       "    text-align: left;\n",
       "  }\n",
       "</style><div class='table-result-container'><table class='table-result'><thead style='background-color: white'><tr><th>total_salary</th><th>minimum_salary</th><th>maximum_salary</th><th>avg_salary</th></tr></thead><tbody><tr><td>665000</td><td>45000</td><td>100000</td><td>66500.0</td></tr></tbody></table></div>"
      ]
     },
     "metadata": {
      "application/vnd.databricks.v1+output": {
       "addedWidgets": {},
       "aggData": [],
       "aggError": "",
       "aggOverflow": false,
       "aggSchema": [],
       "aggSeriesLimitReached": false,
       "aggType": "",
       "arguments": {},
       "columnCustomDisplayInfos": {},
       "data": [
        [
         665000,
         45000,
         100000,
         66500.0
        ]
       ],
       "datasetInfos": [],
       "dbfsResultPath": null,
       "isJsonSchema": true,
       "metadata": {},
       "overflow": false,
       "plotOptions": {
        "customPlotOptions": {},
        "displayType": "table",
        "pivotAggregation": null,
        "pivotColumns": null,
        "xColumns": null,
        "yColumns": null
       },
       "removedWidgets": [],
       "schema": [
        {
         "metadata": "{}",
         "name": "total_salary",
         "type": "\"long\""
        },
        {
         "metadata": "{}",
         "name": "minimum_salary",
         "type": "\"long\""
        },
        {
         "metadata": "{}",
         "name": "maximum_salary",
         "type": "\"long\""
        },
        {
         "metadata": "{}",
         "name": "avg_salary",
         "type": "\"double\""
        }
       ],
       "type": "table"
      }
     },
     "output_type": "display_data"
    }
   ],
   "source": [
    "#AGGREGATE FUNCIONS {COUNT, SUM, MIN, MAX}\n",
    "#FIND NUMBER OF EMPLOYEE\n",
    "display(emp_df.select(count('id').alias('number_of_employee')))\n",
    "#FIND TOTAL SALARY, MIN SALARY, MAX SALARY, AVG SALARY\n",
    "display(emp_df.select(sum('salary').alias('total_salary'), min('salary').alias('minimum_salary'), max('salary').alias('maximum_salary'), avg('salary').alias('avg_salary')))"
   ]
  },
  {
   "cell_type": "code",
   "execution_count": 0,
   "metadata": {
    "application/vnd.databricks.v1+cell": {
     "cellMetadata": {
      "byteLimit": 2048000,
      "rowLimit": 10000
     },
     "inputWidgets": {},
     "nuid": "d6f826e6-bb32-49de-aa03-6678425ffe94",
     "showTitle": false,
     "tableResultSettingsMap": {},
     "title": ""
    }
   },
   "outputs": [
    {
     "output_type": "display_data",
     "data": {
      "text/html": [
       "<style scoped>\n",
       "  .table-result-container {\n",
       "    max-height: 300px;\n",
       "    overflow: auto;\n",
       "  }\n",
       "  table, th, td {\n",
       "    border: 1px solid black;\n",
       "    border-collapse: collapse;\n",
       "  }\n",
       "  th, td {\n",
       "    padding: 5px;\n",
       "  }\n",
       "  th {\n",
       "    text-align: left;\n",
       "  }\n",
       "</style><div class='table-result-container'><table class='table-result'><thead style='background-color: white'><tr><th>department</th><th>sum_of_salary</th></tr></thead><tbody><tr><td>IT</td><td>295000</td></tr><tr><td>sales</td><td>150000</td></tr><tr><td>marketing</td><td>220000</td></tr></tbody></table></div>"
      ]
     },
     "metadata": {
      "application/vnd.databricks.v1+output": {
       "addedWidgets": {},
       "aggData": [],
       "aggError": "",
       "aggOverflow": false,
       "aggSchema": [],
       "aggSeriesLimitReached": false,
       "aggType": "",
       "arguments": {},
       "columnCustomDisplayInfos": {},
       "data": [
        [
         "IT",
         295000
        ],
        [
         "sales",
         150000
        ],
        [
         "marketing",
         220000
        ]
       ],
       "datasetInfos": [],
       "dbfsResultPath": null,
       "isJsonSchema": true,
       "metadata": {},
       "overflow": false,
       "plotOptions": {
        "customPlotOptions": {},
        "displayType": "table",
        "pivotAggregation": null,
        "pivotColumns": null,
        "xColumns": null,
        "yColumns": null
       },
       "removedWidgets": [],
       "schema": [
        {
         "metadata": "{}",
         "name": "department",
         "type": "\"string\""
        },
        {
         "metadata": "{}",
         "name": "sum_of_salary",
         "type": "\"long\""
        }
       ],
       "type": "table"
      }
     },
     "output_type": "display_data"
    },
    {
     "output_type": "display_data",
     "data": {
      "text/html": [
       "<style scoped>\n",
       "  .table-result-container {\n",
       "    max-height: 300px;\n",
       "    overflow: auto;\n",
       "  }\n",
       "  table, th, td {\n",
       "    border: 1px solid black;\n",
       "    border-collapse: collapse;\n",
       "  }\n",
       "  th, td {\n",
       "    padding: 5px;\n",
       "  }\n",
       "  th {\n",
       "    text-align: left;\n",
       "  }\n",
       "</style><div class='table-result-container'><table class='table-result'><thead style='background-color: white'><tr><th>department</th><th>number_of_employee</th></tr></thead><tbody><tr><td>IT</td><td>4</td></tr><tr><td>sales</td><td>2</td></tr><tr><td>marketing</td><td>4</td></tr></tbody></table></div>"
      ]
     },
     "metadata": {
      "application/vnd.databricks.v1+output": {
       "addedWidgets": {},
       "aggData": [],
       "aggError": "",
       "aggOverflow": false,
       "aggSchema": [],
       "aggSeriesLimitReached": false,
       "aggType": "",
       "arguments": {},
       "columnCustomDisplayInfos": {},
       "data": [
        [
         "IT",
         4
        ],
        [
         "sales",
         2
        ],
        [
         "marketing",
         4
        ]
       ],
       "datasetInfos": [],
       "dbfsResultPath": null,
       "isJsonSchema": true,
       "metadata": {},
       "overflow": false,
       "plotOptions": {
        "customPlotOptions": {},
        "displayType": "table",
        "pivotAggregation": null,
        "pivotColumns": null,
        "xColumns": null,
        "yColumns": null
       },
       "removedWidgets": [],
       "schema": [
        {
         "metadata": "{}",
         "name": "department",
         "type": "\"string\""
        },
        {
         "metadata": "{}",
         "name": "number_of_employee",
         "type": "\"long\""
        }
       ],
       "type": "table"
      }
     },
     "output_type": "display_data"
    }
   ],
   "source": [
    "#GROUP BY\n",
    "#GIVE DEPARMENT WISE TOTAL SALARY\n",
    "display(emp_df.groupBy('department').agg(sum('salary').alias('sum_of_salary')))\n",
    "#GIVE NUMBER OF EMPLOYEES IN EACH DEPARTMENT\n",
    "display(emp_df.groupBy('department').agg(count('id').alias('number_of_employee')))"
   ]
  },
  {
   "cell_type": "code",
   "execution_count": 0,
   "metadata": {
    "application/vnd.databricks.v1+cell": {
     "cellMetadata": {
      "byteLimit": 2048000,
      "rowLimit": 10000
     },
     "inputWidgets": {},
     "nuid": "98edae54-ac79-4e4f-bce0-d9db8f1ab38d",
     "showTitle": false,
     "tableResultSettingsMap": {},
     "title": ""
    }
   },
   "outputs": [
    {
     "output_type": "display_data",
     "data": {
      "text/html": [
       "<style scoped>\n",
       "  .table-result-container {\n",
       "    max-height: 300px;\n",
       "    overflow: auto;\n",
       "  }\n",
       "  table, th, td {\n",
       "    border: 1px solid black;\n",
       "    border-collapse: collapse;\n",
       "  }\n",
       "  th, td {\n",
       "    padding: 5px;\n",
       "  }\n",
       "  th {\n",
       "    text-align: left;\n",
       "  }\n",
       "</style><div class='table-result-container'><table class='table-result'><thead style='background-color: white'><tr><th>id</th><th>name</th><th>salary</th><th>dept</th><th>country</th></tr></thead><tbody><tr><td>1</td><td>manish</td><td>50000</td><td>IT</td><td>india</td></tr><tr><td>2</td><td>vikash</td><td>60000</td><td>sales</td><td>us</td></tr><tr><td>3</td><td>raushan</td><td>70000</td><td>marketing</td><td>india</td></tr><tr><td>4</td><td>mukesh</td><td>80000</td><td>IT</td><td>us</td></tr><tr><td>5</td><td>pritam</td><td>90000</td><td>sales</td><td>india</td></tr><tr><td>6</td><td>nikita</td><td>45000</td><td>marketing</td><td>us</td></tr><tr><td>7</td><td>ragini</td><td>55000</td><td>marketing</td><td>india</td></tr><tr><td>8</td><td>rakesh</td><td>100000</td><td>IT</td><td>us</td></tr><tr><td>9</td><td>aditya</td><td>65000</td><td>IT</td><td>india</td></tr><tr><td>10</td><td>rahul</td><td>50000</td><td>marketing</td><td>us</td></tr></tbody></table></div>"
      ]
     },
     "metadata": {
      "application/vnd.databricks.v1+output": {
       "addedWidgets": {},
       "aggData": [],
       "aggError": "",
       "aggOverflow": false,
       "aggSchema": [],
       "aggSeriesLimitReached": false,
       "aggType": "",
       "arguments": {},
       "columnCustomDisplayInfos": {},
       "data": [
        [
         1,
         "manish",
         50000,
         "IT",
         "india"
        ],
        [
         2,
         "vikash",
         60000,
         "sales",
         "us"
        ],
        [
         3,
         "raushan",
         70000,
         "marketing",
         "india"
        ],
        [
         4,
         "mukesh",
         80000,
         "IT",
         "us"
        ],
        [
         5,
         "pritam",
         90000,
         "sales",
         "india"
        ],
        [
         6,
         "nikita",
         45000,
         "marketing",
         "us"
        ],
        [
         7,
         "ragini",
         55000,
         "marketing",
         "india"
        ],
        [
         8,
         "rakesh",
         100000,
         "IT",
         "us"
        ],
        [
         9,
         "aditya",
         65000,
         "IT",
         "india"
        ],
        [
         10,
         "rahul",
         50000,
         "marketing",
         "us"
        ]
       ],
       "datasetInfos": [],
       "dbfsResultPath": null,
       "isJsonSchema": true,
       "metadata": {},
       "overflow": false,
       "plotOptions": {
        "customPlotOptions": {},
        "displayType": "table",
        "pivotAggregation": null,
        "pivotColumns": null,
        "xColumns": null,
        "yColumns": null
       },
       "removedWidgets": [],
       "schema": [
        {
         "metadata": "{}",
         "name": "id",
         "type": "\"long\""
        },
        {
         "metadata": "{}",
         "name": "name",
         "type": "\"string\""
        },
        {
         "metadata": "{}",
         "name": "salary",
         "type": "\"long\""
        },
        {
         "metadata": "{}",
         "name": "dept",
         "type": "\"string\""
        },
        {
         "metadata": "{}",
         "name": "country",
         "type": "\"string\""
        }
       ],
       "type": "table"
      }
     },
     "output_type": "display_data"
    }
   ],
   "source": [
    "cntry_wise_data = [(1,'manish',50000,'IT','india'),\n",
    "(2,'vikash',60000,'sales','us'),\n",
    "(3,'raushan',70000,'marketing','india'),\n",
    "(4,'mukesh',80000,'IT','us'),\n",
    "(5,'pritam',90000,'sales','india'),\n",
    "(6,'nikita',45000,'marketing','us'),\n",
    "(7,'ragini',55000,'marketing','india'),\n",
    "(8,'rakesh',100000,'IT','us'),\n",
    "(9,'aditya',65000,'IT','india'),\n",
    "(10,'rahul',50000,'marketing','us')]\n",
    "new_emp_df = spark.createDataFrame(data=cntry_wise_data, schema=['id','name','salary', 'dept','country'])\n",
    "display(new_emp_df)"
   ]
  },
  {
   "cell_type": "code",
   "execution_count": 0,
   "metadata": {
    "application/vnd.databricks.v1+cell": {
     "cellMetadata": {
      "byteLimit": 2048000,
      "rowLimit": 10000
     },
     "inputWidgets": {},
     "nuid": "fc0d8779-c5a0-4940-8b28-188b9987542d",
     "showTitle": false,
     "tableResultSettingsMap": {},
     "title": ""
    }
   },
   "outputs": [
    {
     "output_type": "display_data",
     "data": {
      "text/html": [
       "<style scoped>\n",
       "  .table-result-container {\n",
       "    max-height: 300px;\n",
       "    overflow: auto;\n",
       "  }\n",
       "  table, th, td {\n",
       "    border: 1px solid black;\n",
       "    border-collapse: collapse;\n",
       "  }\n",
       "  th, td {\n",
       "    padding: 5px;\n",
       "  }\n",
       "  th {\n",
       "    text-align: left;\n",
       "  }\n",
       "</style><div class='table-result-container'><table class='table-result'><thead style='background-color: white'><tr><th>dept</th><th>country</th><th>total_salary</th></tr></thead><tbody><tr><td>IT</td><td>india</td><td>115000</td></tr><tr><td>sales</td><td>us</td><td>60000</td></tr><tr><td>marketing</td><td>india</td><td>125000</td></tr><tr><td>sales</td><td>india</td><td>90000</td></tr><tr><td>IT</td><td>us</td><td>180000</td></tr><tr><td>marketing</td><td>us</td><td>95000</td></tr></tbody></table></div>"
      ]
     },
     "metadata": {
      "application/vnd.databricks.v1+output": {
       "addedWidgets": {},
       "aggData": [],
       "aggError": "",
       "aggOverflow": false,
       "aggSchema": [],
       "aggSeriesLimitReached": false,
       "aggType": "",
       "arguments": {},
       "columnCustomDisplayInfos": {},
       "data": [
        [
         "IT",
         "india",
         115000
        ],
        [
         "sales",
         "us",
         60000
        ],
        [
         "marketing",
         "india",
         125000
        ],
        [
         "sales",
         "india",
         90000
        ],
        [
         "IT",
         "us",
         180000
        ],
        [
         "marketing",
         "us",
         95000
        ]
       ],
       "datasetInfos": [],
       "dbfsResultPath": null,
       "isJsonSchema": true,
       "metadata": {},
       "overflow": false,
       "plotOptions": {
        "customPlotOptions": {},
        "displayType": "table",
        "pivotAggregation": null,
        "pivotColumns": null,
        "xColumns": null,
        "yColumns": null
       },
       "removedWidgets": [],
       "schema": [
        {
         "metadata": "{}",
         "name": "dept",
         "type": "\"string\""
        },
        {
         "metadata": "{}",
         "name": "country",
         "type": "\"string\""
        },
        {
         "metadata": "{}",
         "name": "total_salary",
         "type": "\"long\""
        }
       ],
       "type": "table"
      }
     },
     "output_type": "display_data"
    }
   ],
   "source": [
    "#MULTIPLE COLUMNS IN GROUP BY\n",
    "display(new_emp_df.groupBy('dept','country').agg(sum('salary').alias('total_salary')))"
   ]
  },
  {
   "cell_type": "code",
   "execution_count": 0,
   "metadata": {
    "application/vnd.databricks.v1+cell": {
     "cellMetadata": {
      "byteLimit": 2048000,
      "rowLimit": 10000
     },
     "inputWidgets": {},
     "nuid": "8657a587-3eb2-4e21-9728-883cb5547ad6",
     "showTitle": false,
     "tableResultSettingsMap": {},
     "title": ""
    }
   },
   "outputs": [
    {
     "output_type": "display_data",
     "data": {
      "text/html": [
       "<style scoped>\n",
       "  .table-result-container {\n",
       "    max-height: 300px;\n",
       "    overflow: auto;\n",
       "  }\n",
       "  table, th, td {\n",
       "    border: 1px solid black;\n",
       "    border-collapse: collapse;\n",
       "  }\n",
       "  th, td {\n",
       "    padding: 5px;\n",
       "  }\n",
       "  th {\n",
       "    text-align: left;\n",
       "  }\n",
       "</style><div class='table-result-container'><table class='table-result'><thead style='background-color: white'><tr><th>country</th><th>dept</th><th>total_employee</th><th>sum_of_salary</th></tr></thead><tbody><tr><td>india</td><td>IT</td><td>2</td><td>115000</td></tr><tr><td>us</td><td>sales</td><td>1</td><td>60000</td></tr><tr><td>india</td><td>marketing</td><td>2</td><td>125000</td></tr><tr><td>india</td><td>sales</td><td>1</td><td>90000</td></tr><tr><td>us</td><td>IT</td><td>2</td><td>180000</td></tr><tr><td>us</td><td>marketing</td><td>2</td><td>95000</td></tr></tbody></table></div>"
      ]
     },
     "metadata": {
      "application/vnd.databricks.v1+output": {
       "addedWidgets": {},
       "aggData": [],
       "aggError": "",
       "aggOverflow": false,
       "aggSchema": [],
       "aggSeriesLimitReached": false,
       "aggType": "",
       "arguments": {},
       "columnCustomDisplayInfos": {},
       "data": [
        [
         "india",
         "IT",
         2,
         115000
        ],
        [
         "us",
         "sales",
         1,
         60000
        ],
        [
         "india",
         "marketing",
         2,
         125000
        ],
        [
         "india",
         "sales",
         1,
         90000
        ],
        [
         "us",
         "IT",
         2,
         180000
        ],
        [
         "us",
         "marketing",
         2,
         95000
        ]
       ],
       "datasetInfos": [],
       "dbfsResultPath": null,
       "isJsonSchema": true,
       "metadata": {},
       "overflow": false,
       "plotOptions": {
        "customPlotOptions": {},
        "displayType": "table",
        "pivotAggregation": null,
        "pivotColumns": null,
        "xColumns": null,
        "yColumns": null
       },
       "removedWidgets": [],
       "schema": [
        {
         "metadata": "{}",
         "name": "country",
         "type": "\"string\""
        },
        {
         "metadata": "{}",
         "name": "dept",
         "type": "\"string\""
        },
        {
         "metadata": "{}",
         "name": "total_employee",
         "type": "\"long\""
        },
        {
         "metadata": "{}",
         "name": "sum_of_salary",
         "type": "\"long\""
        }
       ],
       "type": "table"
      }
     },
     "output_type": "display_data"
    }
   ],
   "source": [
    "#COUNTRY WISE EMPLOYEE COUNT IN EACH DEPT AND SUM OF THE SALARY\n",
    "t_df = new_emp_df.groupBy('country','dept').agg(count('id').alias('total_employee'),sum('salary').alias('sum_of_salary'))\n",
    "display(t_df)"
   ]
  }
 ],
 "metadata": {
  "application/vnd.databricks.v1+notebook": {
   "computePreferences": null,
   "dashboards": [],
   "environmentMetadata": {
    "base_environment": "",
    "environment_version": "1"
   },
   "inputWidgetPreferences": null,
   "language": "python",
   "notebookMetadata": {
    "pythonIndentUnit": 4
   },
   "notebookName": "AGGREGATE FUNCTIONS AND GROUPBY",
   "widgets": {}
  }
 },
 "nbformat": 4,
 "nbformat_minor": 0
}