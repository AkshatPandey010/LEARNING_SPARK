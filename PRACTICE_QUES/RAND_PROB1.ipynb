{
 "cells": [
  {
   "cell_type": "code",
   "execution_count": 0,
   "metadata": {
    "application/vnd.databricks.v1+cell": {
     "cellMetadata": {
      "byteLimit": 2048000,
      "rowLimit": 10000
     },
     "inputWidgets": {},
     "nuid": "2ac51642-c80e-4e8c-8d26-57aea74d6b99",
     "showTitle": false,
     "tableResultSettingsMap": {},
     "title": ""
    }
   },
   "outputs": [],
   "source": [
    "from pyspark.sql.functions import *\n",
    "from pyspark.sql.types import *"
   ]
  },
  {
   "cell_type": "code",
   "execution_count": 0,
   "metadata": {
    "application/vnd.databricks.v1+cell": {
     "cellMetadata": {
      "byteLimit": 2048000,
      "rowLimit": 10000
     },
     "inputWidgets": {},
     "nuid": "aadff810-ce68-4e24-ad96-e0501ce72155",
     "showTitle": false,
     "tableResultSettingsMap": {},
     "title": ""
    }
   },
   "outputs": [
    {
     "output_type": "display_data",
     "data": {
      "text/html": [
       "<style scoped>\n",
       "  .table-result-container {\n",
       "    max-height: 300px;\n",
       "    overflow: auto;\n",
       "  }\n",
       "  table, th, td {\n",
       "    border: 1px solid black;\n",
       "    border-collapse: collapse;\n",
       "  }\n",
       "  th, td {\n",
       "    padding: 5px;\n",
       "  }\n",
       "  th {\n",
       "    text-align: left;\n",
       "  }\n",
       "</style><div class='table-result-container'><table class='table-result'><thead style='background-color: white'><tr><th>user_id</th><th>product_id</th><th>quantity</th><th>purchase_date</th></tr></thead><tbody><tr><td>536</td><td>3223</td><td>6</td><td>01/11/2022 12:33:44</td></tr><tr><td>827</td><td>3585</td><td>35</td><td>02/20/2022 14:05:26</td></tr><tr><td>536</td><td>3223</td><td>5</td><td>03/02/2022 09:33:28</td></tr><tr><td>536</td><td>1435</td><td>10</td><td>03/02/2022 08:40:00</td></tr><tr><td>827</td><td>2452</td><td>45</td><td>04/09/2022 00:00:00</td></tr></tbody></table></div>"
      ]
     },
     "metadata": {
      "application/vnd.databricks.v1+output": {
       "addedWidgets": {},
       "aggData": [],
       "aggError": "",
       "aggOverflow": false,
       "aggSchema": [],
       "aggSeriesLimitReached": false,
       "aggType": "",
       "arguments": {},
       "columnCustomDisplayInfos": {},
       "data": [
        [
         536,
         3223,
         6,
         "01/11/2022 12:33:44"
        ],
        [
         827,
         3585,
         35,
         "02/20/2022 14:05:26"
        ],
        [
         536,
         3223,
         5,
         "03/02/2022 09:33:28"
        ],
        [
         536,
         1435,
         10,
         "03/02/2022 08:40:00"
        ],
        [
         827,
         2452,
         45,
         "04/09/2022 00:00:00"
        ]
       ],
       "datasetInfos": [],
       "dbfsResultPath": null,
       "isJsonSchema": true,
       "metadata": {},
       "overflow": false,
       "plotOptions": {
        "customPlotOptions": {},
        "displayType": "table",
        "pivotAggregation": null,
        "pivotColumns": null,
        "xColumns": null,
        "yColumns": null
       },
       "removedWidgets": [],
       "schema": [
        {
         "metadata": "{}",
         "name": "user_id",
         "type": "\"long\""
        },
        {
         "metadata": "{}",
         "name": "product_id",
         "type": "\"long\""
        },
        {
         "metadata": "{}",
         "name": "quantity",
         "type": "\"long\""
        },
        {
         "metadata": "{}",
         "name": "purchase_date",
         "type": "\"string\""
        }
       ],
       "type": "table"
      }
     },
     "output_type": "display_data"
    }
   ],
   "source": [
    "purchase_data = [\n",
    "    (536, 3223, 6, '01/11/2022 12:33:44'),\n",
    "    (827, 3585, 35, '02/20/2022 14:05:26'),\n",
    "    (536, 3223, 5, '03/02/2022 09:33:28'),\n",
    "    (536, 1435, 10, '03/02/2022 08:40:00'),\n",
    "    (827, 2452, 45, '04/09/2022 00:00:00')\n",
    "]\n",
    "purchase_df = spark.createDataFrame(data = purchase_data, schema = ['user_id', 'product_id', 'quantity', 'purchase_date'])\n",
    "display(purchase_df)"
   ]
  },
  {
   "cell_type": "code",
   "execution_count": 0,
   "metadata": {
    "application/vnd.databricks.v1+cell": {
     "cellMetadata": {
      "byteLimit": 2048000,
      "rowLimit": 10000
     },
     "inputWidgets": {},
     "nuid": "444b7ce8-223a-44f1-a896-03f0522a8a07",
     "showTitle": false,
     "tableResultSettingsMap": {},
     "title": ""
    }
   },
   "outputs": [
    {
     "output_type": "display_data",
     "data": {
      "text/html": [
       "<style scoped>\n",
       "  .table-result-container {\n",
       "    max-height: 300px;\n",
       "    overflow: auto;\n",
       "  }\n",
       "  table, th, td {\n",
       "    border: 1px solid black;\n",
       "    border-collapse: collapse;\n",
       "  }\n",
       "  th, td {\n",
       "    padding: 5px;\n",
       "  }\n",
       "  th {\n",
       "    text-align: left;\n",
       "  }\n",
       "</style><div class='table-result-container'><table class='table-result'><thead style='background-color: white'><tr><th>user_id</th><th>product_id</th><th>quantity</th><th>purchase_date</th><th>p_date</th></tr></thead><tbody><tr><td>536</td><td>3223</td><td>6</td><td>01/11/2022 12:33:44</td><td>2022-01-11</td></tr><tr><td>827</td><td>3585</td><td>35</td><td>02/20/2022 14:05:26</td><td>2022-02-20</td></tr><tr><td>536</td><td>3223</td><td>5</td><td>03/02/2022 09:33:28</td><td>2022-03-02</td></tr><tr><td>536</td><td>1435</td><td>10</td><td>03/02/2022 08:40:00</td><td>2022-03-02</td></tr><tr><td>827</td><td>2452</td><td>45</td><td>04/09/2022 00:00:00</td><td>2022-04-09</td></tr></tbody></table></div>"
      ]
     },
     "metadata": {
      "application/vnd.databricks.v1+output": {
       "addedWidgets": {},
       "aggData": [],
       "aggError": "",
       "aggOverflow": false,
       "aggSchema": [],
       "aggSeriesLimitReached": false,
       "aggType": "",
       "arguments": {},
       "columnCustomDisplayInfos": {},
       "data": [
        [
         536,
         3223,
         6,
         "01/11/2022 12:33:44",
         "2022-01-11"
        ],
        [
         827,
         3585,
         35,
         "02/20/2022 14:05:26",
         "2022-02-20"
        ],
        [
         536,
         3223,
         5,
         "03/02/2022 09:33:28",
         "2022-03-02"
        ],
        [
         536,
         1435,
         10,
         "03/02/2022 08:40:00",
         "2022-03-02"
        ],
        [
         827,
         2452,
         45,
         "04/09/2022 00:00:00",
         "2022-04-09"
        ]
       ],
       "datasetInfos": [],
       "dbfsResultPath": null,
       "isJsonSchema": true,
       "metadata": {},
       "overflow": false,
       "plotOptions": {
        "customPlotOptions": {},
        "displayType": "table",
        "pivotAggregation": null,
        "pivotColumns": null,
        "xColumns": null,
        "yColumns": null
       },
       "removedWidgets": [],
       "schema": [
        {
         "metadata": "{}",
         "name": "user_id",
         "type": "\"long\""
        },
        {
         "metadata": "{}",
         "name": "product_id",
         "type": "\"long\""
        },
        {
         "metadata": "{}",
         "name": "quantity",
         "type": "\"long\""
        },
        {
         "metadata": "{}",
         "name": "purchase_date",
         "type": "\"string\""
        },
        {
         "metadata": "{}",
         "name": "p_date",
         "type": "\"date\""
        }
       ],
       "type": "table"
      }
     },
     "output_type": "display_data"
    }
   ],
   "source": [
    "purchase_df = purchase_df.withColumn('p_date', to_date(col('purchase_date'), \"MM/dd/yyyy HH:mm:ss\"))\n",
    "display(purchase_df)"
   ]
  },
  {
   "cell_type": "code",
   "execution_count": 0,
   "metadata": {
    "application/vnd.databricks.v1+cell": {
     "cellMetadata": {
      "byteLimit": 2048000,
      "rowLimit": 10000
     },
     "inputWidgets": {},
     "nuid": "1b6dcde0-0699-459b-9e6c-ae27c66d49e8",
     "showTitle": false,
     "tableResultSettingsMap": {},
     "title": ""
    }
   },
   "outputs": [
    {
     "output_type": "stream",
     "name": "stdout",
     "output_type": "stream",
     "text": [
      "Number of Unique user who purchased the same product on two or more different days are: 1\n"
     ]
    }
   ],
   "source": [
    "grouped_purchase = purchase_df.groupBy('user_id', 'product_id').agg(countDistinct('p_date').alias('cnt'))\n",
    "unique_users = grouped_purchase.filter(col('cnt')>1).count()\n",
    "print(f\"Number of Unique user who purchased the same product on two or more different days are: {unique_users}\")"
   ]
  }
 ],
 "metadata": {
  "application/vnd.databricks.v1+notebook": {
   "computePreferences": null,
   "dashboards": [],
   "environmentMetadata": {
    "base_environment": "",
    "environment_version": "1"
   },
   "inputWidgetPreferences": null,
   "language": "python",
   "notebookMetadata": {
    "pythonIndentUnit": 4
   },
   "notebookName": "RAND_PROB1",
   "widgets": {}
  }
 },
 "nbformat": 4,
 "nbformat_minor": 0
}