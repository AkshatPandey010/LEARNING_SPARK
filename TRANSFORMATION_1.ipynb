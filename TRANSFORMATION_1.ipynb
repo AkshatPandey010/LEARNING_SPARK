{
 "cells": [
  {
   "cell_type": "code",
   "execution_count": 0,
   "metadata": {
    "application/vnd.databricks.v1+cell": {
     "cellMetadata": {
      "byteLimit": 2048000,
      "rowLimit": 10000
     },
     "inputWidgets": {},
     "nuid": "3189d629-c659-4d54-9c2a-5c973fc0afff",
     "showTitle": true,
     "tableResultSettingsMap": {},
     "title": "CREATING AND READING DATAFRAME"
    }
   },
   "outputs": [
    {
     "output_type": "display_data",
     "data": {
      "text/html": [
       "<style scoped>\n",
       "  .table-result-container {\n",
       "    max-height: 300px;\n",
       "    overflow: auto;\n",
       "  }\n",
       "  table, th, td {\n",
       "    border: 1px solid black;\n",
       "    border-collapse: collapse;\n",
       "  }\n",
       "  th, td {\n",
       "    padding: 5px;\n",
       "  }\n",
       "  th {\n",
       "    text-align: left;\n",
       "  }\n",
       "</style><div class='table-result-container'><table class='table-result'><thead style='background-color: white'><tr><th>id</th><th>name</th><th>age</th><th>salary</th><th>address</th><th>nominee</th></tr></thead><tbody><tr><td>1</td><td>Manish</td><td>26</td><td>75000</td><td>bihar</td><td>nominee1</td></tr><tr><td>2</td><td>Nikita</td><td>23</td><td>100000</td><td>uttarpradesh</td><td>nominee2</td></tr><tr><td>3</td><td>Pritam</td><td>22</td><td>150000</td><td>Bangalore</td><td>India</td></tr><tr><td>4</td><td>Prantosh</td><td>17</td><td>200000</td><td>Kolkata</td><td>India</td></tr><tr><td>5</td><td>Vikash</td><td>31</td><td>300000</td><td>null</td><td>nominee5</td></tr></tbody></table></div>"
      ]
     },
     "metadata": {
      "application/vnd.databricks.v1+output": {
       "addedWidgets": {},
       "aggData": [],
       "aggError": "",
       "aggOverflow": false,
       "aggSchema": [],
       "aggSeriesLimitReached": false,
       "aggType": "",
       "arguments": {},
       "columnCustomDisplayInfos": {},
       "data": [
        [
         1,
         "Manish",
         26,
         "75000",
         "bihar",
         "nominee1"
        ],
        [
         2,
         "Nikita",
         23,
         "100000",
         "uttarpradesh",
         "nominee2"
        ],
        [
         3,
         "Pritam",
         22,
         "150000",
         "Bangalore",
         "India"
        ],
        [
         4,
         "Prantosh",
         17,
         "200000",
         "Kolkata",
         "India"
        ],
        [
         5,
         "Vikash",
         31,
         "300000",
         "null",
         "nominee5"
        ]
       ],
       "datasetInfos": [],
       "dbfsResultPath": null,
       "isJsonSchema": true,
       "metadata": {},
       "overflow": false,
       "plotOptions": {
        "customPlotOptions": {},
        "displayType": "table",
        "pivotAggregation": null,
        "pivotColumns": null,
        "xColumns": null,
        "yColumns": null
       },
       "removedWidgets": [],
       "schema": [
        {
         "metadata": "{}",
         "name": "id",
         "type": "\"long\""
        },
        {
         "metadata": "{}",
         "name": "name",
         "type": "\"string\""
        },
        {
         "metadata": "{}",
         "name": "age",
         "type": "\"long\""
        },
        {
         "metadata": "{}",
         "name": "salary",
         "type": "\"string\""
        },
        {
         "metadata": "{}",
         "name": "address",
         "type": "\"string\""
        },
        {
         "metadata": "{}",
         "name": "nominee",
         "type": "\"string\""
        }
       ],
       "type": "table"
      }
     },
     "output_type": "display_data"
    }
   ],
   "source": [
    "from pyspark.sql.functions import *\n",
    "from pyspark.sql.types import *\n",
    "\n",
    "emp_df = [(1,'Manish',26,75000,'bihar','nominee1'),\n",
    "(2,'Nikita',23,100000,'uttarpradesh','nominee2'),\n",
    "(3,'Pritam',22,150000,'Bangalore','India'),\n",
    "(4,'Prantosh',17,'200000','Kolkata','India'),\n",
    "(5,'Vikash',31,300000,'null','nominee5')]\n",
    "\n",
    "emp_schema = ['id','name','age','salary','address','nominee']\n",
    "\n",
    "employee_df = spark.createDataFrame(data = emp_df, schema = emp_schema)\n",
    "employee_df.createOrReplaceTempView(\"employee_tbl\")\n",
    "display(employee_df)"
   ]
  },
  {
   "cell_type": "markdown",
   "metadata": {
    "application/vnd.databricks.v1+cell": {
     "cellMetadata": {},
     "inputWidgets": {},
     "nuid": "a28b3f3c-2c28-43de-82c4-3f99b7ba1038",
     "showTitle": false,
     "tableResultSettingsMap": {},
     "title": ""
    }
   },
   "source": [
    "ALIASING USING COL"
   ]
  },
  {
   "cell_type": "code",
   "execution_count": 0,
   "metadata": {
    "application/vnd.databricks.v1+cell": {
     "cellMetadata": {
      "byteLimit": 2048000,
      "rowLimit": 10000
     },
     "inputWidgets": {},
     "nuid": "064e8cca-06f8-4dce-a4c0-1ffa005deb92",
     "showTitle": false,
     "tableResultSettingsMap": {},
     "title": ""
    }
   },
   "outputs": [
    {
     "output_type": "display_data",
     "data": {
      "text/html": [
       "<style scoped>\n",
       "  .table-result-container {\n",
       "    max-height: 300px;\n",
       "    overflow: auto;\n",
       "  }\n",
       "  table, th, td {\n",
       "    border: 1px solid black;\n",
       "    border-collapse: collapse;\n",
       "  }\n",
       "  th, td {\n",
       "    padding: 5px;\n",
       "  }\n",
       "  th {\n",
       "    text-align: left;\n",
       "  }\n",
       "</style><div class='table-result-container'><table class='table-result'><thead style='background-color: white'><tr><th>employee_id</th><th>name</th><th>salary</th></tr></thead><tbody><tr><td>1</td><td>Manish</td><td>75000</td></tr><tr><td>2</td><td>Nikita</td><td>100000</td></tr><tr><td>3</td><td>Pritam</td><td>150000</td></tr><tr><td>4</td><td>Prantosh</td><td>200000</td></tr><tr><td>5</td><td>Vikash</td><td>300000</td></tr></tbody></table></div>"
      ]
     },
     "metadata": {
      "application/vnd.databricks.v1+output": {
       "addedWidgets": {},
       "aggData": [],
       "aggError": "",
       "aggOverflow": false,
       "aggSchema": [],
       "aggSeriesLimitReached": false,
       "aggType": "",
       "arguments": {},
       "columnCustomDisplayInfos": {},
       "data": [
        [
         1,
         "Manish",
         "75000"
        ],
        [
         2,
         "Nikita",
         "100000"
        ],
        [
         3,
         "Pritam",
         "150000"
        ],
        [
         4,
         "Prantosh",
         "200000"
        ],
        [
         5,
         "Vikash",
         "300000"
        ]
       ],
       "datasetInfos": [],
       "dbfsResultPath": null,
       "isJsonSchema": true,
       "metadata": {},
       "overflow": false,
       "plotOptions": {
        "customPlotOptions": {},
        "displayType": "table",
        "pivotAggregation": null,
        "pivotColumns": null,
        "xColumns": null,
        "yColumns": null
       },
       "removedWidgets": [],
       "schema": [
        {
         "metadata": "{}",
         "name": "employee_id",
         "type": "\"long\""
        },
        {
         "metadata": "{}",
         "name": "name",
         "type": "\"string\""
        },
        {
         "metadata": "{}",
         "name": "salary",
         "type": "\"string\""
        }
       ],
       "type": "table"
      }
     },
     "output_type": "display_data"
    }
   ],
   "source": [
    "display(employee_df.select(col(\"id\").alias(\"employee_id\"),\"name\",\"salary\"))"
   ]
  },
  {
   "cell_type": "markdown",
   "metadata": {
    "application/vnd.databricks.v1+cell": {
     "cellMetadata": {},
     "inputWidgets": {},
     "nuid": "a7785b2a-6329-49f4-bd1d-3af3b1aca13e",
     "showTitle": false,
     "tableResultSettingsMap": {},
     "title": ""
    }
   },
   "source": [
    "FILTERING DATA"
   ]
  },
  {
   "cell_type": "code",
   "execution_count": 0,
   "metadata": {
    "application/vnd.databricks.v1+cell": {
     "cellMetadata": {
      "byteLimit": 2048000,
      "rowLimit": 10000
     },
     "inputWidgets": {},
     "nuid": "4e618ea1-5c39-46b9-a6b0-26ff698bdd02",
     "showTitle": false,
     "tableResultSettingsMap": {},
     "title": ""
    }
   },
   "outputs": [
    {
     "output_type": "stream",
     "name": "stdout",
     "output_type": "stream",
     "text": [
      "SINGLE FILTER\n"
     ]
    },
    {
     "output_type": "display_data",
     "data": {
      "text/html": [
       "<style scoped>\n",
       "  .table-result-container {\n",
       "    max-height: 300px;\n",
       "    overflow: auto;\n",
       "  }\n",
       "  table, th, td {\n",
       "    border: 1px solid black;\n",
       "    border-collapse: collapse;\n",
       "  }\n",
       "  th, td {\n",
       "    padding: 5px;\n",
       "  }\n",
       "  th {\n",
       "    text-align: left;\n",
       "  }\n",
       "</style><div class='table-result-container'><table class='table-result'><thead style='background-color: white'><tr><th>id</th><th>name</th><th>age</th><th>salary</th><th>address</th><th>nominee</th></tr></thead><tbody><tr><td>4</td><td>Prantosh</td><td>17</td><td>200000</td><td>Kolkata</td><td>India</td></tr><tr><td>5</td><td>Vikash</td><td>31</td><td>300000</td><td>null</td><td>nominee5</td></tr></tbody></table></div>"
      ]
     },
     "metadata": {
      "application/vnd.databricks.v1+output": {
       "addedWidgets": {},
       "aggData": [],
       "aggError": "",
       "aggOverflow": false,
       "aggSchema": [],
       "aggSeriesLimitReached": false,
       "aggType": "",
       "arguments": {},
       "columnCustomDisplayInfos": {},
       "data": [
        [
         4,
         "Prantosh",
         17,
         "200000",
         "Kolkata",
         "India"
        ],
        [
         5,
         "Vikash",
         31,
         "300000",
         "null",
         "nominee5"
        ]
       ],
       "datasetInfos": [],
       "dbfsResultPath": null,
       "isJsonSchema": true,
       "metadata": {},
       "overflow": false,
       "plotOptions": {
        "customPlotOptions": {},
        "displayType": "table",
        "pivotAggregation": null,
        "pivotColumns": null,
        "xColumns": null,
        "yColumns": null
       },
       "removedWidgets": [],
       "schema": [
        {
         "metadata": "{}",
         "name": "id",
         "type": "\"long\""
        },
        {
         "metadata": "{}",
         "name": "name",
         "type": "\"string\""
        },
        {
         "metadata": "{}",
         "name": "age",
         "type": "\"long\""
        },
        {
         "metadata": "{}",
         "name": "salary",
         "type": "\"string\""
        },
        {
         "metadata": "{}",
         "name": "address",
         "type": "\"string\""
        },
        {
         "metadata": "{}",
         "name": "nominee",
         "type": "\"string\""
        }
       ],
       "type": "table"
      }
     },
     "output_type": "display_data"
    },
    {
     "output_type": "stream",
     "name": "stdout",
     "output_type": "stream",
     "text": [
      "MULTIPLE FILTERS\n"
     ]
    },
    {
     "output_type": "display_data",
     "data": {
      "text/html": [
       "<style scoped>\n",
       "  .table-result-container {\n",
       "    max-height: 300px;\n",
       "    overflow: auto;\n",
       "  }\n",
       "  table, th, td {\n",
       "    border: 1px solid black;\n",
       "    border-collapse: collapse;\n",
       "  }\n",
       "  th, td {\n",
       "    padding: 5px;\n",
       "  }\n",
       "  th {\n",
       "    text-align: left;\n",
       "  }\n",
       "</style><div class='table-result-container'><table class='table-result'><thead style='background-color: white'><tr><th>id</th><th>name</th><th>age</th><th>salary</th><th>address</th><th>nominee</th></tr></thead><tbody><tr><td>4</td><td>Prantosh</td><td>17</td><td>200000</td><td>Kolkata</td><td>India</td></tr></tbody></table></div>"
      ]
     },
     "metadata": {
      "application/vnd.databricks.v1+output": {
       "addedWidgets": {},
       "aggData": [],
       "aggError": "",
       "aggOverflow": false,
       "aggSchema": [],
       "aggSeriesLimitReached": false,
       "aggType": "",
       "arguments": {},
       "columnCustomDisplayInfos": {},
       "data": [
        [
         4,
         "Prantosh",
         17,
         "200000",
         "Kolkata",
         "India"
        ]
       ],
       "datasetInfos": [],
       "dbfsResultPath": null,
       "isJsonSchema": true,
       "metadata": {},
       "overflow": false,
       "plotOptions": {
        "customPlotOptions": {},
        "displayType": "table",
        "pivotAggregation": null,
        "pivotColumns": null,
        "xColumns": null,
        "yColumns": null
       },
       "removedWidgets": [],
       "schema": [
        {
         "metadata": "{}",
         "name": "id",
         "type": "\"long\""
        },
        {
         "metadata": "{}",
         "name": "name",
         "type": "\"string\""
        },
        {
         "metadata": "{}",
         "name": "age",
         "type": "\"long\""
        },
        {
         "metadata": "{}",
         "name": "salary",
         "type": "\"string\""
        },
        {
         "metadata": "{}",
         "name": "address",
         "type": "\"string\""
        },
        {
         "metadata": "{}",
         "name": "nominee",
         "type": "\"string\""
        }
       ],
       "type": "table"
      }
     },
     "output_type": "display_data"
    }
   ],
   "source": [
    "print(\"SINGLE FILTER\")\n",
    "#FOR SINGLE FILTER USING COL()\n",
    "display(employee_df.filter(col(\"salary\")>150000))\n",
    "print(\"MULTIPLE FILTERS\")\n",
    "#FOR MULTIPLE FILTERS USING COL() {Remember always separate conditions in different parenthesis}\n",
    "display(employee_df.filter((col(\"salary\")>150000) & (col(\"age\")<18)))"
   ]
  },
  {
   "cell_type": "code",
   "execution_count": 0,
   "metadata": {
    "application/vnd.databricks.v1+cell": {
     "cellMetadata": {
      "byteLimit": 2048000,
      "rowLimit": 10000
     },
     "inputWidgets": {},
     "nuid": "815df600-b77f-410b-9ba4-a6ecc1abbfa4",
     "showTitle": false,
     "tableResultSettingsMap": {},
     "title": ""
    }
   },
   "outputs": [
    {
     "output_type": "display_data",
     "data": {
      "text/html": [
       "<style scoped>\n",
       "  .table-result-container {\n",
       "    max-height: 300px;\n",
       "    overflow: auto;\n",
       "  }\n",
       "  table, th, td {\n",
       "    border: 1px solid black;\n",
       "    border-collapse: collapse;\n",
       "  }\n",
       "  th, td {\n",
       "    padding: 5px;\n",
       "  }\n",
       "  th {\n",
       "    text-align: left;\n",
       "  }\n",
       "</style><div class='table-result-container'><table class='table-result'><thead style='background-color: white'><tr><th>id</th><th>name</th><th>age</th><th>salary</th><th>address</th><th>nominee</th><th>Last_name</th></tr></thead><tbody><tr><td>1</td><td>Manish</td><td>26</td><td>75000</td><td>bihar</td><td>nominee1</td><td>Pandey</td></tr><tr><td>2</td><td>Nikita</td><td>23</td><td>100000</td><td>uttarpradesh</td><td>nominee2</td><td>Pandey</td></tr><tr><td>3</td><td>Pritam</td><td>22</td><td>150000</td><td>Bangalore</td><td>India</td><td>Pandey</td></tr><tr><td>4</td><td>Prantosh</td><td>17</td><td>200000</td><td>Kolkata</td><td>India</td><td>Pandey</td></tr><tr><td>5</td><td>Vikash</td><td>31</td><td>300000</td><td>null</td><td>nominee5</td><td>Pandey</td></tr></tbody></table></div>"
      ]
     },
     "metadata": {
      "application/vnd.databricks.v1+output": {
       "addedWidgets": {},
       "aggData": [],
       "aggError": "",
       "aggOverflow": false,
       "aggSchema": [],
       "aggSeriesLimitReached": false,
       "aggType": "",
       "arguments": {},
       "columnCustomDisplayInfos": {},
       "data": [
        [
         1,
         "Manish",
         26,
         "75000",
         "bihar",
         "nominee1",
         "Pandey"
        ],
        [
         2,
         "Nikita",
         23,
         "100000",
         "uttarpradesh",
         "nominee2",
         "Pandey"
        ],
        [
         3,
         "Pritam",
         22,
         "150000",
         "Bangalore",
         "India",
         "Pandey"
        ],
        [
         4,
         "Prantosh",
         17,
         "200000",
         "Kolkata",
         "India",
         "Pandey"
        ],
        [
         5,
         "Vikash",
         31,
         "300000",
         "null",
         "nominee5",
         "Pandey"
        ]
       ],
       "datasetInfos": [],
       "dbfsResultPath": null,
       "isJsonSchema": true,
       "metadata": {},
       "overflow": false,
       "plotOptions": {
        "customPlotOptions": {},
        "displayType": "table",
        "pivotAggregation": null,
        "pivotColumns": null,
        "xColumns": null,
        "yColumns": null
       },
       "removedWidgets": [],
       "schema": [
        {
         "metadata": "{}",
         "name": "id",
         "type": "\"long\""
        },
        {
         "metadata": "{}",
         "name": "name",
         "type": "\"string\""
        },
        {
         "metadata": "{}",
         "name": "age",
         "type": "\"long\""
        },
        {
         "metadata": "{}",
         "name": "salary",
         "type": "\"string\""
        },
        {
         "metadata": "{}",
         "name": "address",
         "type": "\"string\""
        },
        {
         "metadata": "{}",
         "name": "nominee",
         "type": "\"string\""
        },
        {
         "metadata": "{}",
         "name": "Last_name",
         "type": "\"string\""
        }
       ],
       "type": "table"
      }
     },
     "output_type": "display_data"
    }
   ],
   "source": [
    "#LITERALS\n",
    "display(employee_df.select(\"*\", lit(\"Pandey\").alias(\"Last_name\")))\n",
    "#Literals are used as default value columns"
   ]
  },
  {
   "cell_type": "markdown",
   "metadata": {
    "application/vnd.databricks.v1+cell": {
     "cellMetadata": {},
     "inputWidgets": {},
     "nuid": "e5004278-cc13-4859-8598-b6870c5aa624",
     "showTitle": false,
     "tableResultSettingsMap": {},
     "title": ""
    }
   },
   "source": [
    "READING DATA USING WITHCOLUMN()"
   ]
  },
  {
   "cell_type": "code",
   "execution_count": 0,
   "metadata": {
    "application/vnd.databricks.v1+cell": {
     "cellMetadata": {
      "byteLimit": 2048000,
      "rowLimit": 10000
     },
     "inputWidgets": {},
     "nuid": "7635bff5-7c8e-4531-aa0f-7fc64e44fd75",
     "showTitle": false,
     "tableResultSettingsMap": {},
     "title": ""
    }
   },
   "outputs": [
    {
     "output_type": "display_data",
     "data": {
      "text/html": [
       "<style scoped>\n",
       "  .table-result-container {\n",
       "    max-height: 300px;\n",
       "    overflow: auto;\n",
       "  }\n",
       "  table, th, td {\n",
       "    border: 1px solid black;\n",
       "    border-collapse: collapse;\n",
       "  }\n",
       "  th, td {\n",
       "    padding: 5px;\n",
       "  }\n",
       "  th {\n",
       "    text-align: left;\n",
       "  }\n",
       "</style><div class='table-result-container'><table class='table-result'><thead style='background-color: white'><tr><th>id</th><th>name</th><th>age</th><th>salary</th><th>address</th><th>nominee</th><th>Surname</th></tr></thead><tbody><tr><td>1</td><td>Manish</td><td>26</td><td>75000</td><td>bihar</td><td>nominee1</td><td>Singh</td></tr><tr><td>2</td><td>Nikita</td><td>23</td><td>100000</td><td>uttarpradesh</td><td>nominee2</td><td>Singh</td></tr><tr><td>3</td><td>Pritam</td><td>22</td><td>150000</td><td>Bangalore</td><td>India</td><td>Singh</td></tr><tr><td>4</td><td>Prantosh</td><td>17</td><td>200000</td><td>Kolkata</td><td>India</td><td>Singh</td></tr><tr><td>5</td><td>Vikash</td><td>31</td><td>300000</td><td>null</td><td>nominee5</td><td>Singh</td></tr></tbody></table></div>"
      ]
     },
     "metadata": {
      "application/vnd.databricks.v1+output": {
       "addedWidgets": {},
       "aggData": [],
       "aggError": "",
       "aggOverflow": false,
       "aggSchema": [],
       "aggSeriesLimitReached": false,
       "aggType": "",
       "arguments": {},
       "columnCustomDisplayInfos": {},
       "data": [
        [
         1,
         "Manish",
         26,
         "75000",
         "bihar",
         "nominee1",
         "Singh"
        ],
        [
         2,
         "Nikita",
         23,
         "100000",
         "uttarpradesh",
         "nominee2",
         "Singh"
        ],
        [
         3,
         "Pritam",
         22,
         "150000",
         "Bangalore",
         "India",
         "Singh"
        ],
        [
         4,
         "Prantosh",
         17,
         "200000",
         "Kolkata",
         "India",
         "Singh"
        ],
        [
         5,
         "Vikash",
         31,
         "300000",
         "null",
         "nominee5",
         "Singh"
        ]
       ],
       "datasetInfos": [],
       "dbfsResultPath": null,
       "isJsonSchema": true,
       "metadata": {},
       "overflow": false,
       "plotOptions": {
        "customPlotOptions": {},
        "displayType": "table",
        "pivotAggregation": null,
        "pivotColumns": null,
        "xColumns": null,
        "yColumns": null
       },
       "removedWidgets": [],
       "schema": [
        {
         "metadata": "{}",
         "name": "id",
         "type": "\"long\""
        },
        {
         "metadata": "{}",
         "name": "name",
         "type": "\"string\""
        },
        {
         "metadata": "{}",
         "name": "age",
         "type": "\"long\""
        },
        {
         "metadata": "{}",
         "name": "salary",
         "type": "\"string\""
        },
        {
         "metadata": "{}",
         "name": "address",
         "type": "\"string\""
        },
        {
         "metadata": "{}",
         "name": "nominee",
         "type": "\"string\""
        },
        {
         "metadata": "{}",
         "name": "Surname",
         "type": "\"string\""
        }
       ],
       "type": "table"
      }
     },
     "output_type": "display_data"
    }
   ],
   "source": [
    "#withColumn() includes our existing columns and it can also add new columns in the output\n",
    "display(employee_df.withColumn(\"Surname\", lit(\"Singh\")))"
   ]
  },
  {
   "cell_type": "markdown",
   "metadata": {
    "application/vnd.databricks.v1+cell": {
     "cellMetadata": {},
     "inputWidgets": {},
     "nuid": "e5a31d5c-ae1e-4c02-a455-e1a15927483c",
     "showTitle": false,
     "tableResultSettingsMap": {},
     "title": ""
    }
   },
   "source": [
    "RENAMING COLUMN USING withColumnRenamed() function"
   ]
  },
  {
   "cell_type": "code",
   "execution_count": 0,
   "metadata": {
    "application/vnd.databricks.v1+cell": {
     "cellMetadata": {
      "byteLimit": 2048000,
      "rowLimit": 10000
     },
     "inputWidgets": {},
     "nuid": "5d76dddf-0d96-41ec-a547-0456bae3cc53",
     "showTitle": false,
     "tableResultSettingsMap": {},
     "title": ""
    }
   },
   "outputs": [
    {
     "output_type": "display_data",
     "data": {
      "text/html": [
       "<style scoped>\n",
       "  .table-result-container {\n",
       "    max-height: 300px;\n",
       "    overflow: auto;\n",
       "  }\n",
       "  table, th, td {\n",
       "    border: 1px solid black;\n",
       "    border-collapse: collapse;\n",
       "  }\n",
       "  th, td {\n",
       "    padding: 5px;\n",
       "  }\n",
       "  th {\n",
       "    text-align: left;\n",
       "  }\n",
       "</style><div class='table-result-container'><table class='table-result'><thead style='background-color: white'><tr><th>emp_id</th><th>name</th><th>age</th><th>salary</th><th>address</th><th>nominee</th></tr></thead><tbody><tr><td>1</td><td>Manish</td><td>26</td><td>75000</td><td>bihar</td><td>nominee1</td></tr><tr><td>2</td><td>Nikita</td><td>23</td><td>100000</td><td>uttarpradesh</td><td>nominee2</td></tr><tr><td>3</td><td>Pritam</td><td>22</td><td>150000</td><td>Bangalore</td><td>India</td></tr><tr><td>4</td><td>Prantosh</td><td>17</td><td>200000</td><td>Kolkata</td><td>India</td></tr><tr><td>5</td><td>Vikash</td><td>31</td><td>300000</td><td>null</td><td>nominee5</td></tr></tbody></table></div>"
      ]
     },
     "metadata": {
      "application/vnd.databricks.v1+output": {
       "addedWidgets": {},
       "aggData": [],
       "aggError": "",
       "aggOverflow": false,
       "aggSchema": [],
       "aggSeriesLimitReached": false,
       "aggType": "",
       "arguments": {},
       "columnCustomDisplayInfos": {},
       "data": [
        [
         1,
         "Manish",
         26,
         "75000",
         "bihar",
         "nominee1"
        ],
        [
         2,
         "Nikita",
         23,
         "100000",
         "uttarpradesh",
         "nominee2"
        ],
        [
         3,
         "Pritam",
         22,
         "150000",
         "Bangalore",
         "India"
        ],
        [
         4,
         "Prantosh",
         17,
         "200000",
         "Kolkata",
         "India"
        ],
        [
         5,
         "Vikash",
         31,
         "300000",
         "null",
         "nominee5"
        ]
       ],
       "datasetInfos": [],
       "dbfsResultPath": null,
       "isJsonSchema": true,
       "metadata": {},
       "overflow": false,
       "plotOptions": {
        "customPlotOptions": {},
        "displayType": "table",
        "pivotAggregation": null,
        "pivotColumns": null,
        "xColumns": null,
        "yColumns": null
       },
       "removedWidgets": [],
       "schema": [
        {
         "metadata": "{}",
         "name": "emp_id",
         "type": "\"long\""
        },
        {
         "metadata": "{}",
         "name": "name",
         "type": "\"string\""
        },
        {
         "metadata": "{}",
         "name": "age",
         "type": "\"long\""
        },
        {
         "metadata": "{}",
         "name": "salary",
         "type": "\"string\""
        },
        {
         "metadata": "{}",
         "name": "address",
         "type": "\"string\""
        },
        {
         "metadata": "{}",
         "name": "nominee",
         "type": "\"string\""
        }
       ],
       "type": "table"
      }
     },
     "output_type": "display_data"
    }
   ],
   "source": [
    "display(employee_df.withColumnRenamed(\"id\", \"emp_id\"))"
   ]
  },
  {
   "cell_type": "code",
   "execution_count": 0,
   "metadata": {
    "application/vnd.databricks.v1+cell": {
     "cellMetadata": {
      "byteLimit": 2048000,
      "rowLimit": 10000
     },
     "inputWidgets": {},
     "nuid": "950217ae-4c42-4753-a86c-fe047a88d99e",
     "showTitle": false,
     "tableResultSettingsMap": {},
     "title": ""
    }
   },
   "outputs": [
    {
     "output_type": "stream",
     "name": "stdout",
     "output_type": "stream",
     "text": [
      "Before casting schema\nroot\n |-- id: long (nullable = true)\n |-- name: string (nullable = true)\n |-- age: long (nullable = true)\n |-- salary: string (nullable = true)\n |-- address: string (nullable = true)\n |-- nominee: string (nullable = true)\n\nAfter casting salary from string to integer\n\nroot\n |-- id: long (nullable = true)\n |-- name: string (nullable = true)\n |-- age: long (nullable = true)\n |-- salary: long (nullable = true)\n |-- address: string (nullable = true)\n |-- nominee: string (nullable = true)\n\n"
     ]
    }
   ],
   "source": [
    "#TYPE CASTING USING withColumn()\n",
    "print(\"Before casting schema\")\n",
    "employee_df.printSchema()\n",
    "print(\"After casting salary from string to integer\\n\")\n",
    "employee_df.withColumn(\"salary\",col(\"salary\").cast(\"long\")).printSchema()"
   ]
  },
  {
   "cell_type": "code",
   "execution_count": 0,
   "metadata": {
    "application/vnd.databricks.v1+cell": {
     "cellMetadata": {
      "byteLimit": 2048000,
      "rowLimit": 10000
     },
     "inputWidgets": {},
     "nuid": "a755e037-e05e-4126-b99c-d6f979c712fc",
     "showTitle": false,
     "tableResultSettingsMap": {},
     "title": ""
    }
   },
   "outputs": [
    {
     "output_type": "display_data",
     "data": {
      "text/html": [
       "<style scoped>\n",
       "  .table-result-container {\n",
       "    max-height: 300px;\n",
       "    overflow: auto;\n",
       "  }\n",
       "  table, th, td {\n",
       "    border: 1px solid black;\n",
       "    border-collapse: collapse;\n",
       "  }\n",
       "  th, td {\n",
       "    padding: 5px;\n",
       "  }\n",
       "  th {\n",
       "    text-align: left;\n",
       "  }\n",
       "</style><div class='table-result-container'><table class='table-result'><thead style='background-color: white'><tr><th>id</th><th>name</th><th>age</th><th>salary</th></tr></thead><tbody><tr><td>1</td><td>Manish</td><td>26</td><td>75000</td></tr><tr><td>2</td><td>Nikita</td><td>23</td><td>100000</td></tr><tr><td>3</td><td>Pritam</td><td>22</td><td>150000</td></tr><tr><td>4</td><td>Prantosh</td><td>17</td><td>200000</td></tr><tr><td>5</td><td>Vikash</td><td>31</td><td>300000</td></tr></tbody></table></div>"
      ]
     },
     "metadata": {
      "application/vnd.databricks.v1+output": {
       "addedWidgets": {},
       "aggData": [],
       "aggError": "",
       "aggOverflow": false,
       "aggSchema": [],
       "aggSeriesLimitReached": false,
       "aggType": "",
       "arguments": {},
       "columnCustomDisplayInfos": {},
       "data": [
        [
         1,
         "Manish",
         26,
         "75000"
        ],
        [
         2,
         "Nikita",
         23,
         "100000"
        ],
        [
         3,
         "Pritam",
         22,
         "150000"
        ],
        [
         4,
         "Prantosh",
         17,
         "200000"
        ],
        [
         5,
         "Vikash",
         31,
         "300000"
        ]
       ],
       "datasetInfos": [],
       "dbfsResultPath": null,
       "isJsonSchema": true,
       "metadata": {},
       "overflow": false,
       "plotOptions": {
        "customPlotOptions": {},
        "displayType": "table",
        "pivotAggregation": null,
        "pivotColumns": null,
        "xColumns": null,
        "yColumns": null
       },
       "removedWidgets": [],
       "schema": [
        {
         "metadata": "{}",
         "name": "id",
         "type": "\"long\""
        },
        {
         "metadata": "{}",
         "name": "name",
         "type": "\"string\""
        },
        {
         "metadata": "{}",
         "name": "age",
         "type": "\"long\""
        },
        {
         "metadata": "{}",
         "name": "salary",
         "type": "\"string\""
        }
       ],
       "type": "table"
      }
     },
     "output_type": "display_data"
    }
   ],
   "source": [
    "#REMOVING MULTIPLE COLUMNS\n",
    "display(employee_df.drop(\"nominee\", col(\"address\")))"
   ]
  }
 ],
 "metadata": {
  "application/vnd.databricks.v1+notebook": {
   "computePreferences": null,
   "dashboards": [],
   "environmentMetadata": {
    "base_environment": "",
    "environment_version": "1"
   },
   "inputWidgetPreferences": null,
   "language": "python",
   "notebookMetadata": {
    "pythonIndentUnit": 4
   },
   "notebookName": "TRANSFORMATION_1",
   "widgets": {}
  }
 },
 "nbformat": 4,
 "nbformat_minor": 0
}